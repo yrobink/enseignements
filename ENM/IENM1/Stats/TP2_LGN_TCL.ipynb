{
 "cells": [
  {
   "cell_type": "markdown",
   "metadata": {},
   "source": [
    "# TP: Illustration de la loi des grands nombres et du théorème central limite\n",
    "## I. Pré-traitement\n",
    "### I.1 Librairies"
   ]
  },
  {
   "cell_type": "code",
   "execution_count": 1,
   "metadata": {},
   "outputs": [],
   "source": [
    "## Scientific libraries\n",
    "##=====================\n",
    "\n",
    "## Plot libraries\n",
    "##==============="
   ]
  },
  {
   "cell_type": "markdown",
   "metadata": {},
   "source": [
    "### I.2 Variables globales"
   ]
  },
  {
   "cell_type": "code",
   "execution_count": null,
   "metadata": {},
   "outputs": [],
   "source": []
  },
  {
   "cell_type": "markdown",
   "metadata": {},
   "source": [
    "## II. Et on relance des dés\n",
    "\n",
    "***Questions*** Étudier la fonction `simulation_somme_des`:\n",
    "- Que fait t'elle ?\n",
    "- Afficher le résultat de cette fonction sur un graphique (mettre des labels sur les axes, un titre, de la couleur, etc) pour différents nombres de dés.\n",
    "- Modifier le graphique pour qu'une ligne soit affiché plutot que des points (regarder la documentation ou google)\n",
    "- Modifier le graphique pour que des batons soit affiché plutot que des points (regarder la documentation ou google) "
   ]
  },
  {
   "cell_type": "code",
   "execution_count": 2,
   "metadata": {},
   "outputs": [],
   "source": [
    "simulation_somme_des = function( n_des , n_tirages = 1e6 , n_faces = 6 )\n",
    "{\n",
    "\ttirage = 0\n",
    "\tfor( j in 1:n_des )\n",
    "\t\ttirage = tirage + base::sample( 1:n_faces , n_tirages, replace = TRUE )\n",
    "\t\n",
    "\tfrequences = numeric(n_faces*n_des - n_des+1)\n",
    "\tnames(frequences) = n_des:(n_faces * n_des)\n",
    "\t\n",
    "\tfor( j in n_des:(n_faces * n_des) )\n",
    "\t\tfrequences[as.character(j)] = base::sum( tirage == j ) / n_tirages\n",
    "\t\n",
    "\treturn(frequences)\n",
    "}"
   ]
  },
  {
   "cell_type": "code",
   "execution_count": 1,
   "metadata": {},
   "outputs": [],
   "source": [
    "####################################\n",
    "## Écrire votre réponse entre ici...\n",
    "\n",
    "## ... et la\n",
    "####################################"
   ]
  },
  {
   "cell_type": "code",
   "execution_count": 2,
   "metadata": {},
   "outputs": [],
   "source": [
    "##################################################################################################################\n",
    "## Ce bout de code est spécifique à jupyter, il permet de controler la taille en \"pixel\" de la sortie graphique\n",
    "## Il faudra le réutiliser avant chaque graphique\n",
    "nrow = 1 ## Nombre de lignes de sous-graphique\n",
    "ncol = 1 ## Nombre de colonnes de sous-graphique\n",
    "base::options( repr.plot.width = 6 * ncol , repr.plot.height = 6 * nrow )\n",
    "graphics::par( mfrow = base::c(nrow,ncol) ) ## On construit un graphique découpé en nrow * ncol fenêtres\n",
    "##\n",
    "##################################################################################################################"
   ]
  },
  {
   "cell_type": "markdown",
   "metadata": {},
   "source": [
    "***Question*** Examinez la fonction `densite_somme_de`:\n",
    "- Comprennez son fonctionnement,\n",
    "- Affichez son résultat,\n",
    "- Ajouter le aux graphes précédents,\n",
    "- Justification et conclusion ?"
   ]
  },
  {
   "cell_type": "code",
   "execution_count": 4,
   "metadata": {},
   "outputs": [],
   "source": [
    "densite_somme_des = function( n_des , n_tirages = 1e6 , n_faces = 6 , size_density = 500 )\n",
    "{\n",
    "\tx = base::seq( n_des , n_des * n_faces , length = size_density )\n",
    "\tloc   = ( 1 + n_faces ) / 2\n",
    "\tscale = base::sqrt( ( ( n_faces - 1 + 1 )^2 - 1 ) / 12 )\n",
    "\tdensity = stats::dnorm( x , mean = n_des * loc , sd = base::sqrt(n_des) * scale )\n",
    "\tnames(density) = x\n",
    "\treturn(density)\n",
    "}"
   ]
  },
  {
   "cell_type": "code",
   "execution_count": 3,
   "metadata": {},
   "outputs": [],
   "source": [
    "####################################\n",
    "## Écrire votre réponse entre ici...\n",
    "\n",
    "## ... et la\n",
    "####################################"
   ]
  },
  {
   "cell_type": "markdown",
   "metadata": {},
   "source": [
    "***Questions*** Reprenez les codes précédents en faisant décroitre le nombre de tirage par puissance de 10. Conclusion ?"
   ]
  },
  {
   "cell_type": "code",
   "execution_count": 6,
   "metadata": {},
   "outputs": [],
   "source": [
    "####################################\n",
    "## Écrire votre réponse entre ici...\n",
    "\n",
    "## ... et la\n",
    "####################################"
   ]
  },
  {
   "cell_type": "markdown",
   "metadata": {},
   "source": [
    "## III. Moyenne d'une loi\n",
    "***Objectif*** La loi des grands nombres dans la pratique.\n",
    "\n",
    "***Méthode générale***\n",
    "- Choisir une loi $\\mathbb{P}$,\n",
    "- Effectuer $p$ échantillons de $n$ tirages selon la loi $\\mathbb{P}$,\n",
    "- Calculer la moyenne de chacun des échantillons.\n",
    "\n",
    "***Notes*** Dans R, les lois de probabilités sont accessibles de la manière suivante:\n",
    "- `d<loi>` pour la fonction de densité,\n",
    "- `p<loi>` pour la CDF ($\\mathbb{P}(X<x)$),\n",
    "- `q<loi>` pour la fonction quantile (pseudo-inverse de la CDF),\n",
    "- `r<loi>` pour le générateur de valeur aléatoire,\n",
    "\n",
    "Par exemple pour la loi uniforme nous avons les quatre fonctions suivantes : `dunif`, `punif`, `qunif` et `runif`. Ne pas oublier de regarder la documentation pour voir les arguments des fonctions qui dépendent des lois!\n"
   ]
  },
  {
   "cell_type": "markdown",
   "metadata": {},
   "source": [
    "### III.1 Loi uniforme\n",
    "\n",
    "- Réaliser $p=5$ tirages de $n=1000$ réalisations d'une loi uniforme $\\mathcal{U}(0,1)$.\n",
    "- Pour chaque tirages $X_{k=1...n}$, et pour tout $i\\in\\{1,...,n\\}$, calculer la moyenne des $X_{k=1...i}$\n",
    "- Tracer cette moyenne en fonction de $i$, et afficher la droite d'équation $y = (a+b) / 2$."
   ]
  },
  {
   "cell_type": "code",
   "execution_count": 4,
   "metadata": {},
   "outputs": [],
   "source": [
    "####################################\n",
    "## Écrire votre réponse entre ici...\n",
    "\n",
    "## ... et la\n",
    "####################################"
   ]
  },
  {
   "cell_type": "markdown",
   "metadata": {},
   "source": [
    "### III.2 Loi normale\n",
    "\n",
    "- Réaliser $p=5$ tirages de $n=1000$ réalisations d'une loi Normale $\\mathcal{N}(\\mu=10,\\sigma^2)$, avec $\\sigma\\in\\{0.5,1,2,4,8\\}$.\n",
    "- Pour chaque tirages $X_{k=1...n}$, et pour tout $i\\in\\{1,...,n\\}$, calculer la moyenne des $X_{k=1...i}$\n",
    "- Tracer cette moyenne en fonction de $i$, et afficher la droite d'équation $y = \\mu$."
   ]
  },
  {
   "cell_type": "code",
   "execution_count": 5,
   "metadata": {},
   "outputs": [],
   "source": [
    "####################################\n",
    "## Écrire votre réponse entre ici...\n",
    "\n",
    "## ... et la\n",
    "####################################"
   ]
  },
  {
   "cell_type": "markdown",
   "metadata": {},
   "source": [
    "### III.3 Loi exponentielle\n",
    "\n",
    "- Réaliser $p=5$ tirages de $n=1000$ réalisations d'une loi Exponentielle $\\mathcal{E}(\\lambda)$, avec $\\lambda\\in\\{0.5,1,2,4,8\\}$.\n",
    "- Pour chaque tirages $X_{k=1...n}$, et pour tout $i\\in\\{1,...,n\\}$, calculer la moyenne des $X_{k=1...i}$\n",
    "- Tracer cette moyenne en fonction de $i$, et afficher les droites d'équations $y = \\frac{1}{\\lambda}$."
   ]
  },
  {
   "cell_type": "code",
   "execution_count": 6,
   "metadata": {},
   "outputs": [],
   "source": [
    "####################################\n",
    "## Écrire votre réponse entre ici...\n",
    "\n",
    "## ... et la\n",
    "####################################"
   ]
  },
  {
   "cell_type": "markdown",
   "metadata": {},
   "source": [
    "### III.4 Loi de Cauchy\n",
    "\n",
    "- Réaliser $p=5$ tirages de $n=1000$ réalisations d'une loi de Cauchy $\\mathcal{C}(0,1)$.\n",
    "- Pour chaque tirages $X_{k=1...n}$, et pour tout $i\\in\\{1,...,n\\}$, calculer la moyenne des $X_{k=1...i}$\n",
    "- Tracer cette moyenne en fonction de $i$, et afficher la droite d'équation $y = 0$.\n",
    "- Refaire ces graphes pour $n=10000$, $n=100000$."
   ]
  },
  {
   "cell_type": "code",
   "execution_count": 7,
   "metadata": {},
   "outputs": [],
   "source": [
    "####################################\n",
    "## Écrire votre réponse entre ici...\n",
    "\n",
    "## ... et la\n",
    "####################################"
   ]
  },
  {
   "cell_type": "markdown",
   "metadata": {},
   "source": [
    "### III.5 Conclusion\n",
    "- Que constate t'on pour les lois uniformes, normales et exponentielle?\n",
    "- Et pour la loi de Cauchy ?"
   ]
  },
  {
   "cell_type": "markdown",
   "metadata": {},
   "source": [
    "## IV. Tirages aléatoires selon une loi quelconque\n",
    "\n",
    "**Rappel** (Voir exo 2.5) Soit $X$ une variable aléatoire de loi $\\mathbb{P}_X$, et de fonction de répartition $F_X(x) = \\mathbb{P}(X\\leq x)$ *inversible*. Soit $U$ une variable aléatoire de loi uniforme $\\mathcal{U}(0,1)$. Alors:\n",
    "\n",
    "$$F_X^{-1}(U)\\sim\\mathbb{P}_X$$"
   ]
  },
  {
   "cell_type": "markdown",
   "metadata": {},
   "source": [
    "***Questions*** Déterminer un moyen de tirer des valeurs selon $\\mathbb{P}_X$ si $F_X$ est connue et inversible."
   ]
  },
  {
   "cell_type": "markdown",
   "metadata": {},
   "source": [
    "### IV.1 Applications à des lois classiques\n",
    "- Réaliser un tirage des lois $\\mathcal{N}(0,1)$, $\\mathcal{E}(2)$ et $\\mathcal{C}(0,1)$ avec cette méthode.\n",
    "- Réaliser un tirage selon ces lois avec les fonctions de R (c.f. III)\n",
    "\n",
    "Pour chaque loi, sur un même graphique, afficher les trois courbes suivantes:\n",
    "- `density(<tirage selon votre méthode>)`\n",
    "- `density(<tirage avec les fonctions de R>)`\n",
    "- `curve(d<loi>,min,max)`\n",
    "\n",
    "Conclusion ?"
   ]
  },
  {
   "cell_type": "code",
   "execution_count": 8,
   "metadata": {},
   "outputs": [],
   "source": [
    "####################################\n",
    "## Écrire votre réponse entre ici...\n",
    "\n",
    "## ... et la\n",
    "####################################"
   ]
  },
  {
   "cell_type": "code",
   "execution_count": 9,
   "metadata": {},
   "outputs": [],
   "source": [
    "####################################\n",
    "## Écrire votre réponse entre ici...\n",
    "\n",
    "## ... et la\n",
    "####################################"
   ]
  },
  {
   "cell_type": "markdown",
   "metadata": {},
   "source": [
    "### IV.2 Construire notre propre loi\n",
    "\n",
    "Le but de cette section est de construire notre propre loi, i.e. de construire les quatre fonctions génératrices : densité, CDF, quantile et générateur aléatoire. Nous allons travailler sur un type de loi de *puissance*, qui admet pour densité:\n",
    "\n",
    "$$f_X(x) = \\frac{r-1}{x^r}\\mathbf{1}_{[1,\\infty[}(x)$$\n",
    "\n",
    "Rappelons que la CDF $F_X$ est donnée par:\n",
    "\n",
    "$$F_X(x) = \\int_{-\\infty}^x f_X(t).\\mathrm{d}t$$\n",
    "\n",
    "***Questions***\n",
    "- Construire la fonction de densité `dpow`,\n",
    "- Construire la CDF `ppow`,\n",
    "- Construire l'inverse de la CDF `qpow`,\n",
    "- Construire le générateur aléatoire `rpow`,"
   ]
  },
  {
   "cell_type": "code",
   "execution_count": 10,
   "metadata": {},
   "outputs": [],
   "source": [
    "####################################\n",
    "## Écrire votre réponse entre ici...\n",
    "\n",
    "## ... et la\n",
    "####################################"
   ]
  },
  {
   "cell_type": "markdown",
   "metadata": {},
   "source": [
    "## V. Comportement asymptotique\n",
    "\n",
    "***Rappel*** On a vu que si $S_n$ est la somme d'une famille iid de variable aléatoire $X$ tel que $\\mathbb{E}(|X|)<\\infty$, alors:\n",
    "\n",
    "$$\\lim_{n\\to\\infty} S_n= \\mathbb{E}(X) = \\mu$$\n",
    "\n",
    "De plus, si $X$ admet un moment d'ordre 2 (i.e. $\\mathbb{E}(|X|^2)<\\infty$), en notant $\\sigma^2$ la variance de $X$, on a:\n",
    "- $\\mathbb{E}(S_n) = n\\mu$\n",
    "- $\\sigma_{S_n}^2 = n\\sigma^2$.\n",
    "\n",
    "On note de plus $Y_n = \\frac{S_n-\\mathbb{E}(S_n)}{\\sigma_{S_n}}$ la variable centrée réduite de $S_n$.\n"
   ]
  },
  {
   "cell_type": "markdown",
   "metadata": {},
   "source": [
    "***Question 1*** Exprimer $Y_n$ en fonction de $S_n$, $n$, $\\mu$ et $\\sigma$.\n",
    "\n",
    "***Question 2*** Calculer $m=1000$ valeurs de $Y_n$ avec $n=1000$ lorsque la loi de $X$ est:\n",
    "- Une loi normale $\\mathcal{N}(2,2^2)$,\n",
    "- Une loi exponentielle $\\mathcal{E}(\\lambda=3)$,\n",
    "- Une loi de bernouilli $\\mathcal{B}(p=0.25)$ (`rbinom`).\n",
    "\n",
    "***Question 3*** Tracer les densités des différents $Y_n$ sur un même graphe, les comparer à la densité d'une loi $\\mathcal{N}(0,1)$.\n",
    "\n",
    "***Question 4*** Faire varier $m$ et $n$ pour voir leurs influences, et tester avec une loi gamma, de Cauchy, et la loi de puissance construite dans l'exercice précédent.\n",
    "\n",
    "***Rappel*** Si $f$ est la densité d'une V.A. continue $X$, alors:\n",
    "$$\\mathbb{E}(X) = \\int_{\\mathbb{R}} xf(x).\\mathrm{d}x$$\n",
    "$$\\mathrm{Var}(X) = \\int_{\\mathbb{R}} x^2f(x).\\mathrm{d}x - \\mathbb{E}(X)^2$$\n",
    "\n",
    "***Question*** Quel théorème cet exercice illustre t'il ?"
   ]
  },
  {
   "cell_type": "code",
   "execution_count": 17,
   "metadata": {},
   "outputs": [],
   "source": [
    "####################################\n",
    "## Écrire votre réponse entre ici...\n",
    "\n",
    "## ... et la\n",
    "####################################"
   ]
  }
 ],
 "metadata": {
  "kernelspec": {
   "display_name": "R",
   "language": "R",
   "name": "ir"
  },
  "language_info": {
   "codemirror_mode": "r",
   "file_extension": ".r",
   "mimetype": "text/x-r-source",
   "name": "R",
   "pygments_lexer": "r",
   "version": "3.5.2"
  }
 },
 "nbformat": 4,
 "nbformat_minor": 4
}
