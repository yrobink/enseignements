{
 "cells": [
  {
   "cell_type": "markdown",
   "metadata": {},
   "source": [
    "# TP1 : suite de l'introduction"
   ]
  },
  {
   "cell_type": "markdown",
   "metadata": {},
   "source": [
    "## IV. Statistiques et calcul matriciel\n",
    "Le but de cet exercice est:\n",
    "\n",
    "- De jouer avec les matrices,\n",
    "- De savoir appliquer une fonction le long des colonnes / lignes d'une matrice,\n",
    "- De jouer avec deux lois statistiques de base: la loi normale et exponentielle,\n",
    "- De savoir dériver quelques statistiques de base d'un jeu de donnée.\n",
    "- De manipuler quelques fonctions d'affichage de base"
   ]
  },
  {
   "cell_type": "markdown",
   "metadata": {},
   "source": [
    "### IV.1 Création d'une jeu de donnée \"climatique\" idéalisé\n",
    "\n",
    "Nous allons commencer par créer une fonction qui va générer notre jeu de donnée. Nous voulons créer une matrix `X` tel que:\n",
    "- La première colonne suive une loi normale $\\mathcal{N}(\\mu = 0,\\sigma^2=1)$ (similaire à des températures)\n",
    "- La seconde colonne suive une loi exponentielle $\\mathcal{E}(\\lambda=2)$ (vaguement similaire à des précipitations).\n",
    "\n",
    "À l'aide de la documentation des fonctions `base::matrix`, `stats::rnorm` (attention la loi normale attend l'écart type en paramètre) et `stats::rexp`, construire une fonction `generate_idealized_climate_data` qui prend en entrée un entier `n` (le nombre d'observations de notre jeu de donnée) et qui renvoie une matrix `X` avec les caractéristiques précédentes.\n"
   ]
  },
  {
   "cell_type": "code",
   "execution_count": 4,
   "metadata": {},
   "outputs": [],
   "source": [
    "####################################\n",
    "## Écrire votre réponse entre ici...\n",
    "\n",
    "## ... et la\n",
    "####################################"
   ]
  },
  {
   "cell_type": "markdown",
   "metadata": {},
   "source": [
    "***Question*** Générer un jeu de donnée `X` contenant 10000 observations, et utiliser la fonction `utils::head` pour afficher les premières lignes."
   ]
  },
  {
   "cell_type": "code",
   "execution_count": 3,
   "metadata": {},
   "outputs": [],
   "source": [
    "####################################\n",
    "## Écrire votre réponse entre ici...\n",
    "\n",
    "## ... et la\n",
    "####################################"
   ]
  },
  {
   "cell_type": "markdown",
   "metadata": {},
   "source": [
    "***Question*** Il est commode de donner des noms aux colonnes, utilisez la fonction `base::colnames` pour intituler la colonne contenant la loi normale `\"T\"` (comme température), et la colonne contenant la loi exponentielle `\"Pr\"` (comme précipitation)."
   ]
  },
  {
   "cell_type": "code",
   "execution_count": 4,
   "metadata": {},
   "outputs": [],
   "source": [
    "####################################\n",
    "## Écrire votre réponse entre ici...\n",
    "\n",
    "## ... et la\n",
    "####################################"
   ]
  },
  {
   "cell_type": "markdown",
   "metadata": {},
   "source": [
    "### IV.2 Afficher les séries temporelles\n",
    "#### IV.2.1 Selection de sous ensemble avec des matrices\n",
    "\n",
    "***Questions*** Tester chacun des codes suivants pour en comprendre le fonctionnement (n'hésitez pas à prendre une matrice plus petite pour mieux comprendre):\n",
    "\n",
    "- `X[3,2]`\n",
    "- `X[,1]`\n",
    "- `X[,2]`\n",
    "- `X[-base::c(2,5),]`\n",
    "- `X[12]`\n",
    "\n",
    "Comment sont stockées les données pour une matrice ?"
   ]
  },
  {
   "cell_type": "code",
   "execution_count": null,
   "metadata": {},
   "outputs": [],
   "source": [
    "####################################\n",
    "## Écrire votre réponse entre ici...\n",
    "\n",
    "## ... et la\n",
    "####################################"
   ]
  },
  {
   "cell_type": "markdown",
   "metadata": {},
   "source": [
    "#### IV.2.2 Afficher les séries temporelles sur graphique\n",
    "\n",
    "Quand on étudie un jeu de donnée, l'une des premières choses à faire est de l'afficher pour voir sa forme. Le but ici est d'afficher:\n",
    "\n",
    "- La série qui suit une loi normale\n",
    "- La série qui suit une loi exponentielle\n",
    "- La structure de dépendance entre nos deux séries, i.e. la première colonne VS la deuxième colonne\n",
    "\n",
    "La fonction qui permet d'afficher est la fonction `graphics::plot`.\n",
    "\n",
    "***Question*** Lire la documentation de la fonction `graphics::plot` et afficher les 3 graphiques précédent. Utiliser de la couleur, et donner un nom aux axes."
   ]
  },
  {
   "cell_type": "code",
   "execution_count": 12,
   "metadata": {},
   "outputs": [],
   "source": [
    "##################################################################################################################\n",
    "## Ce bout de code est spécifique à jupyter, il permet de controler la taille en \"pixel\" de la sortie graphique\n",
    "## Il faudra le réutiliser avant chaque graphique\n",
    "nrow = 1 ## Nombre de lignes de sous-graphique\n",
    "ncol = 3 ## Nombre de colonnes de sous-graphique\n",
    "base::options( repr.plot.width = 6 * ncol , repr.plot.height = 6 * nrow )\n",
    "graphics::par( mfrow = base::c(nrow,ncol) ) ## On construit un graphique découpé en nrow * ncol fenêtres\n",
    "##\n",
    "##################################################################################################################\n",
    "\n",
    "####################################\n",
    "## Écrire votre réponse entre ici...\n",
    "\n",
    "\n",
    "## ... et la\n",
    "####################################"
   ]
  },
  {
   "cell_type": "markdown",
   "metadata": {},
   "source": [
    "### IV.3 Quelques statistiques\n",
    "***Question*** Pour avoir une première idée des caractéristiques de notre jeu de donnée, appelez la fonction `summary` sur la matrix `X`."
   ]
  },
  {
   "cell_type": "code",
   "execution_count": 6,
   "metadata": {},
   "outputs": [],
   "source": [
    "####################################\n",
    "## Écrire votre réponse entre ici...\n",
    "## ... et la\n",
    "####################################"
   ]
  },
  {
   "cell_type": "markdown",
   "metadata": {},
   "source": [
    "### IV.4 Retrouvons ces statistiques\n",
    "\n",
    "Le but de cette section est de retrouver les statistiques renvoyées par la fonction `summary`.\n",
    "\n",
    "***Question*** La moyenne est donné par la fonction `base::mean`. Utilisez cette fonction sur `X`. Quel est le problème ? Vous avez estimé la moyenne de quoi ?"
   ]
  },
  {
   "cell_type": "code",
   "execution_count": 7,
   "metadata": {},
   "outputs": [],
   "source": [
    "####################################\n",
    "## Écrire votre réponse entre ici...\n",
    "\n",
    "## ... et la\n",
    "####################################"
   ]
  },
  {
   "cell_type": "markdown",
   "metadata": {},
   "source": [
    "Pour résoudre ce problème, nous voulons appliquer la fonction `base::mean` sur chaque colonne. Ceci peut être réalisé par la fonction `base::apply`. Elle prend les arguments suivants:\n",
    "\n",
    "- `X` : la matrice le long de laquelle on veut appliquer la fonction `FUN`\n",
    "- `MARGIN` : si on applique le long des lignes (1) ou des colonnes (2)\n",
    "- `FUN` : la fonction à appliquer\n",
    "- `...` : tout arguments supplémentaires à donner à `FUN`.\n",
    "\n",
    " ***Question*** Utilisez la fonction `base::apply` pour retrouver la moyenne de chaque colonne."
   ]
  },
  {
   "cell_type": "code",
   "execution_count": 8,
   "metadata": {},
   "outputs": [],
   "source": [
    "####################################\n",
    "## Écrire votre réponse entre ici...\n",
    "\n",
    "## ... et la\n",
    "####################################"
   ]
  },
  {
   "cell_type": "markdown",
   "metadata": {},
   "source": [
    "***Question*** avec les fonctions `base::min`, `base::max`, `stats::quantile` et `stats::sd`, retrouver les minima, maxima, 1er et 3eme quartile, la médiane et l'écart type.\n",
    "\n",
    "***Question bonus*** Sauriez vous le faire avec une boucle sur les fonctions ?"
   ]
  },
  {
   "cell_type": "code",
   "execution_count": 10,
   "metadata": {},
   "outputs": [
    {
     "name": "stdout",
     "output_type": "stream",
     "text": [
      "[1]  0.2579729 -0.2495414\n",
      "[1] -1.652957 -2.880017\n",
      "[1] 2.723277 2.604623\n",
      "[1] 1.011216 1.062806\n",
      "[1]  0.2233579 -0.2203398\n",
      "[1] -0.4717834 -1.0630028\n",
      "[1] 0.9045378 0.4724804\n"
     ]
    }
   ],
   "source": [
    "####################################\n",
    "## Écrire votre réponse entre ici...\n",
    "\n",
    "## ... et la\n",
    "####################################"
   ]
  },
  {
   "cell_type": "markdown",
   "metadata": {},
   "source": [
    "### IV.5 Afficher un histogramme\n",
    "***Objectif*** Afficher un histogramme de chaque colonne et la comparer à la densité de probabilité.\n",
    "\n",
    "Utilisez les fonctions `graphics::hist`, `graphics::lines`, `stats::dnorm` et `stats::dexp` pour afficher cote à cote les histogrammes de chaque colonne et les densités correspondantes de chaque loi."
   ]
  },
  {
   "cell_type": "code",
   "execution_count": 10,
   "metadata": {},
   "outputs": [],
   "source": [
    "####################################\n",
    "## Écrire votre réponse entre ici...\n",
    "\n",
    "## ... et la\n",
    "####################################"
   ]
  },
  {
   "cell_type": "markdown",
   "metadata": {},
   "source": [
    "## V. Manipulation des dataframe\n",
    "***Objectif*** Utiliser les dataframe pour étudier les températures et précipitations moyennes sur la France.\n",
    "\n",
    "### V.1. Chargement des données\n",
    "\n",
    "À l'aide de la fonction `read.csv`, charger le fichier EOBS_FR.csv dans une variable `data` tel que:\n",
    "- Les deux colonnes contiennent la température et les précipitations,\n",
    "- Les colonnes soient nommées,\n",
    "- Les colonnes sont indexées par les dates,\n",
    "\n",
    "Indices : lire la doc de la fonction `read.csv`, attention aux mot clés `header` et `row.names`.\n"
   ]
  },
  {
   "cell_type": "code",
   "execution_count": 24,
   "metadata": {},
   "outputs": [],
   "source": [
    "####################################\n",
    "## Écrire votre réponse entre ici...\n",
    "\n",
    "## ... et la\n",
    "####################################"
   ]
  },
  {
   "cell_type": "markdown",
   "metadata": {},
   "source": [
    "***Question*** Afficher un résumé des statistiques du jeu de données."
   ]
  },
  {
   "cell_type": "code",
   "execution_count": 25,
   "metadata": {},
   "outputs": [],
   "source": [
    "####################################\n",
    "## Écrire votre réponse entre ici...\n",
    "\n",
    "# ... et la\n",
    "####################################"
   ]
  },
  {
   "cell_type": "markdown",
   "metadata": {},
   "source": [
    "### V.2. Selection de sous ensemble\n",
    "\n",
    "Executez le code suivant, et comprennez en le fonctionnement:\n",
    "\n",
    "~~~\n",
    "subset( data , format.Date( row.names(data) , \"%m\" ) %in% base::c(\"06\",\"07\",\"08\") )\n",
    "~~~\n"
   ]
  },
  {
   "cell_type": "code",
   "execution_count": 26,
   "metadata": {},
   "outputs": [],
   "source": [
    "####################################\n",
    "## Écrire votre réponse entre ici...\n",
    "\n",
    "## ... et la\n",
    "####################################"
   ]
  },
  {
   "cell_type": "markdown",
   "metadata": {},
   "source": [
    "***Questions*** Affichez un résumé des statistiques pour chaque saison."
   ]
  },
  {
   "cell_type": "code",
   "execution_count": 27,
   "metadata": {},
   "outputs": [],
   "source": [
    "####################################\n",
    "## Écrire votre réponse entre ici...\n",
    "\n",
    "\n",
    "## ... et la\n",
    "####################################"
   ]
  },
  {
   "cell_type": "markdown",
   "metadata": {},
   "source": [
    "***Questions*** Sur un graphique (avec beaucoup de subplot), afficher les histogrammes des températures et précipitations pour chaque saison, ainsi que la température VS les précipitations. Commentez ces graphes\n",
    "\n",
    "*Tips*: `for( df in list(...) )` vous permet de faire une boucle sur les éléments dans la `list`."
   ]
  },
  {
   "cell_type": "code",
   "execution_count": 28,
   "metadata": {},
   "outputs": [],
   "source": [
    "####################################\n",
    "## Écrire votre réponse entre ici...\n",
    "\n",
    "## ... et la\n",
    "####################################"
   ]
  },
  {
   "cell_type": "markdown",
   "metadata": {},
   "source": [
    "### V.3 Quelques manipulations supplémentaires\n",
    "\n",
    "En utilisant la fonction `subset`:\n",
    "- Construire un dataframe ne contenant que les jours sans pluies (disons Pr < 0.1), nommée `data_sec`,\n",
    "- Construire un dataframe contenant les jours très pluvieux (> 3eme quartile) avec une température d'au moins 20C, nommée `data_tropic`,\n",
    "- Construire un dataframe contenant les jours sans pluies et avec des températures négatives, nommée `data_polair`,\n",
    "\n",
    "Refaire les mêmes extractions sans la fonction `subset`.\n"
   ]
  },
  {
   "cell_type": "code",
   "execution_count": 15,
   "metadata": {},
   "outputs": [],
   "source": [
    "####################################\n",
    "## Écrire votre réponse entre ici...\n",
    "\n",
    "## ... et la\n",
    "####################################"
   ]
  }
 ],
 "metadata": {
  "kernelspec": {
   "display_name": "R",
   "language": "R",
   "name": "ir"
  },
  "language_info": {
   "codemirror_mode": "r",
   "file_extension": ".r",
   "mimetype": "text/x-r-source",
   "name": "R",
   "pygments_lexer": "r",
   "version": "3.5.2"
  }
 },
 "nbformat": 4,
 "nbformat_minor": 4
}
