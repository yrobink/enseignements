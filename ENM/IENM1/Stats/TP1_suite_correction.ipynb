{
 "cells": [
  {
   "cell_type": "markdown",
   "metadata": {},
   "source": [
    "# TP1 : suite de l'introduction"
   ]
  },
  {
   "cell_type": "markdown",
   "metadata": {},
   "source": [
    "## IV. Statistiques et calcul matriciel\n",
    "Le but de cet exercice est:\n",
    "\n",
    "- De jouer avec les matrices,\n",
    "- De savoir appliquer une fonction le long des colonnes / lignes d'une matrice,\n",
    "- De jouer avec deux lois statistiques de base: la loi normale et exponentielle,\n",
    "- De savoir dériver quelques statistiques de base d'un jeu de donnée.\n",
    "- De manipuler quelques fonctions d'affichage de base"
   ]
  },
  {
   "cell_type": "markdown",
   "metadata": {},
   "source": [
    "### IV.1 Création d'une jeu de donnée \"climatique\" idéalisé\n",
    "\n",
    "Nous allons commencer par créer une fonction qui va générer notre jeu de donnée. Nous voulons créer une matrix `X` tel que:\n",
    "- La première colonne suive une loi normale $\\mathcal{N}(\\mu = 0,\\sigma^2=1)$ (similaire à des températures)\n",
    "- La seconde colonne suive une loi exponentielle $\\mathcal{E}(\\lambda=2)$ (vaguement similaire à des précipitations).\n",
    "\n",
    "À l'aide de la documentation des fonctions `base::matrix`, `stats::rnorm` (attention la loi normale attend l'écart type en paramètre) et `stats::rexp`, construire une fonction `generate_idealized_climate_data` qui prend en entrée un entier `n` (le nombre d'observations de notre jeu de donnée) et qui renvoie une matrix `X` avec les caractéristiques précédentes.\n"
   ]
  },
  {
   "cell_type": "code",
   "execution_count": null,
   "metadata": {},
   "outputs": [],
   "source": [
    "####################################\n",
    "## Écrire votre réponse entre ici...\n",
    "\n",
    "generate_idealized_climate_data = function( n )\n",
    "{\n",
    "\tX = matrix( nrow = n , ncol = 2 )\n",
    "\tX[,1] = stats::rnorm( n , mean = 0 , sd = 1 )\n",
    "\tX[,2] = stats::rexp( n , rate = 2 )\n",
    "\treturn(X)\n",
    "}\n",
    "\t\n",
    "\t\n",
    "## ... et la\n",
    "####################################"
   ]
  },
  {
   "cell_type": "markdown",
   "metadata": {},
   "source": [
    "***Question*** Générer un jeu de donnée `X` contenant 10000 observations, et utiliser la fonction `utils::head` pour afficher les premières lignes."
   ]
  },
  {
   "cell_type": "code",
   "execution_count": null,
   "metadata": {},
   "outputs": [],
   "source": [
    "####################################\n",
    "## Écrire votre réponse entre ici...\n",
    "\n",
    "X = generate_idealized_climate_data(10000)\n",
    "\n",
    "print(utils::head(X))\n",
    "\n",
    "## ... et la\n",
    "####################################"
   ]
  },
  {
   "cell_type": "markdown",
   "metadata": {},
   "source": [
    "***Question*** Il est commode de donner des noms aux colonnes, utilisez la fonction `base::colnames` pour intituler la colonne contenant la loi normale `\"T\"` (comme température), et la colonne contenant la loi exponentielle `\"Pr\"` (comme précipitation)."
   ]
  },
  {
   "cell_type": "code",
   "execution_count": null,
   "metadata": {},
   "outputs": [],
   "source": [
    "####################################\n",
    "## Écrire votre réponse entre ici...\n",
    "\n",
    "base::colnames(X) = base::c( \"T\" , \"Pr\" )\n",
    "\n",
    "print(utils::head(X))\n",
    "\n",
    "## ... et la\n",
    "####################################"
   ]
  },
  {
   "cell_type": "markdown",
   "metadata": {},
   "source": [
    "### IV.2 Afficher les séries temporelles\n",
    "#### IV.2.1 Selection de sous ensemble avec des matrices\n",
    "\n",
    "***Questions*** Tester chacun des codes suivants pour en comprendre le fonctionnement (n'hésitez pas à prendre une matrice plus petite pour mieux comprendre):\n",
    "\n",
    "- `X[3,2]`\n",
    "- `X[,1]`\n",
    "- `X[,2]`\n",
    "- `X[-base::c(2,5),]`\n",
    "- `X[12]`\n",
    "\n",
    "Comment sont stockées les données pour une matrice ?"
   ]
  },
  {
   "cell_type": "code",
   "execution_count": null,
   "metadata": {},
   "outputs": [],
   "source": [
    "####################################\n",
    "## Écrire votre réponse entre ici...\n",
    "\n",
    "# X[3,2] : selectionne l'élément de la 3eme ligne / 2eme colonne\n",
    "# X[,1] : selectionne la 1ere colonne\n",
    "# X[,2] : selectionne la 2eme colonne\n",
    "# X[-base::c(2,5),] : affiche X en en supprimant la 2eme et 5eme ligne\n",
    "# X[12] : transforme la matrix en un vecteur 1d en \"collant\" les 2 colonnes et selection le 12 element\n",
    "\n",
    "\n",
    "## ... et la\n",
    "####################################"
   ]
  },
  {
   "cell_type": "markdown",
   "metadata": {},
   "source": [
    "#### IV.2.2 Afficher les séries temporelles sur graphique\n",
    "\n",
    "Quand on étudie un jeu de donnée, l'une des premières choses à faire est de l'afficher pour voir sa forme. Le but ici est d'afficher:\n",
    "\n",
    "- La série qui suit une loi normale\n",
    "- La série qui suit une loi exponentielle\n",
    "- La structure de dépendance entre nos deux séries, i.e. la première colonne VS la deuxième colonne\n",
    "\n",
    "La fonction qui permet d'afficher est la fonction `graphics::plot`.\n",
    "\n",
    "***Question*** Lire la documentation de la fonction `graphics::plot` et afficher les 3 graphiques précédent. Utiliser de la couleur, et donner un nom aux axes."
   ]
  },
  {
   "cell_type": "code",
   "execution_count": null,
   "metadata": {},
   "outputs": [],
   "source": [
    "##################################################################################################################\n",
    "## Ce bout de code est spécifique à jupyter, il permet de controler la taille en \"pixel\" de la sortie graphique\n",
    "## Il faudra le réutiliser avant chaque graphique\n",
    "nrow = 1 ## Nombre de lignes de sous-graphique\n",
    "ncol = 3 ## Nombre de colonnes de sous-graphique\n",
    "base::options( repr.plot.width = 6 * ncol , repr.plot.height = 6 * nrow )\n",
    "graphics::par( mfrow = base::c(nrow,ncol) ) ## On construit un graphique découpé en nrow * ncol fenêtres\n",
    "##\n",
    "##################################################################################################################\n",
    "\n",
    "####################################\n",
    "## Écrire votre réponse entre ici...\n",
    "\n",
    "graphics::plot( X[,1] , col = \"red\" , xlab = \"time\" , ylab = \"T\" )\n",
    "graphics::plot( X[,2] , col = \"red\" , xlab = \"time\" , ylab = \"Pr\" )\n",
    "graphics::plot( X[,1] , X[,2] , col = \"red\" , xlab = \"T\" , ylab = \"Pr\" )\n",
    "\n",
    "\n",
    "## ... et la\n",
    "####################################"
   ]
  },
  {
   "cell_type": "markdown",
   "metadata": {},
   "source": [
    "### IV.3 Quelques statistiques\n",
    "***Question*** Pour avoir une première idée des caractéristiques de notre jeu de donnée, appelez la fonction `summary` sur la matrix `X`."
   ]
  },
  {
   "cell_type": "code",
   "execution_count": null,
   "metadata": {},
   "outputs": [],
   "source": [
    "####################################\n",
    "## Écrire votre réponse entre ici...\n",
    "\n",
    "print(summary(X))\n",
    "\n",
    "## ... et la\n",
    "####################################"
   ]
  },
  {
   "cell_type": "markdown",
   "metadata": {},
   "source": [
    "### IV.4 Retrouvons ces statistiques\n",
    "\n",
    "Le but de cette section est de retrouver les statistiques renvoyées par la fonction `summary`.\n",
    "\n",
    "***Question*** La moyenne est donné par la fonction `base::mean`. Utilisez cette fonction sur `X`. Quel est le problème ? Vous avez estimé la moyenne de quoi ?"
   ]
  },
  {
   "cell_type": "code",
   "execution_count": null,
   "metadata": {},
   "outputs": [],
   "source": [
    "####################################\n",
    "## Écrire votre réponse entre ici...\n",
    "\n",
    "print(base::mean(X)) ## Affiche la moyenne de tout, i.e. mélange T et Pr\n",
    "\n",
    "## ... et la\n",
    "####################################"
   ]
  },
  {
   "cell_type": "markdown",
   "metadata": {},
   "source": [
    "Pour résoudre ce problème, nous voulons appliquer la fonction `base::mean` sur chaque colonne. Ceci peut être réalisé par la fonction `base::apply`. Elle prend les arguments suivants:\n",
    "\n",
    "- `X` : la matrice le long de laquelle on veut appliquer la fonction `FUN`\n",
    "- `MARGIN` : si on applique le long des lignes (1) ou des colonnes (2)\n",
    "- `FUN` : la fonction à appliquer\n",
    "- `...` : tout arguments supplémentaires à donner à `FUN`.\n",
    "\n",
    " ***Question*** Utilisez la fonction `base::apply` pour retrouver la moyenne de chaque colonne."
   ]
  },
  {
   "cell_type": "code",
   "execution_count": null,
   "metadata": {},
   "outputs": [],
   "source": [
    "####################################\n",
    "## Écrire votre réponse entre ici...\n",
    "\n",
    "print( base::apply( X , 2 , base::mean ) )\n",
    "\n",
    "## ... et la\n",
    "####################################"
   ]
  },
  {
   "cell_type": "markdown",
   "metadata": {},
   "source": [
    "***Question*** avec les fonctions `base::min`, `base::max`, `stats::quantile` et `stats::sd`, retrouver les minima, maxima, 1er et 3eme quartile, la médiane et l'écart type.\n",
    "\n",
    "***Question bonus*** Sauriez vous le faire avec une boucle sur les fonctions ?"
   ]
  },
  {
   "cell_type": "code",
   "execution_count": null,
   "metadata": {},
   "outputs": [],
   "source": [
    "####################################\n",
    "## Écrire votre réponse entre ici...\n",
    "\n",
    "for( FUN in list(base::min,base::max,stats::sd,function(x) { stats::quantile(x,probs = base::c(0.25,0.75)) }) )\n",
    "\tprint( base::apply( X , 2 , FUN ) )\n",
    "\n",
    "## ... et la\n",
    "####################################"
   ]
  },
  {
   "cell_type": "markdown",
   "metadata": {},
   "source": [
    "### IV.5 Afficher un histogramme\n",
    "***Objectif*** Afficher un histogramme de chaque colonne et la comparer à la densité de probabilité.\n",
    "\n",
    "Utilisez les fonctions `graphics::hist`, `graphics::lines`, `stats::dnorm` et `stats::dexp` pour afficher cote à cote les histogrammes de chaque colonne et les densités correspondantes de chaque loi."
   ]
  },
  {
   "cell_type": "code",
   "execution_count": null,
   "metadata": {},
   "outputs": [],
   "source": [
    "####################################\n",
    "## Écrire votre réponse entre ici...\n",
    "\n",
    "##################################################################################################################\n",
    "## Ce bout de code est spécifique à jupyter, il permet de controler la taille en \"pixel\" de la sortie graphique\n",
    "## Il faudra le réutiliser avant chaque graphique\n",
    "nrow = 1 ## Nombre de lignes de sous-graphique\n",
    "ncol = 2 ## Nombre de colonnes de sous-graphique\n",
    "base::options( repr.plot.width = 6 * ncol , repr.plot.height = 6 * nrow )\n",
    "graphics::par( mfrow = base::c(nrow,ncol) ) ## On construit un graphique découpé en nrow * ncol fenêtres\n",
    "##\n",
    "##################################################################################################################\n",
    "\n",
    "ddist = list( dnorm , function(x) { dexp(x,rate=2) } )\n",
    "for( i in 1:2 )\n",
    "{\n",
    "\tx = base::seq( base::min(X[,i]) , base::max(X[,i]) , length = 50 )\n",
    "\tgraphics::hist( X[,i] , breaks = x , col = grDevices::rgb(1,0,0,0.5) , freq = FALSE , main = base::colnames(X)[i] , xlab = base::colnames(X)[i] )\n",
    "\tgraphics::lines( x , ddist[[i]](x) , col = \"red\" )\n",
    "}\n",
    "\n",
    "\n",
    "## ... et la\n",
    "####################################"
   ]
  },
  {
   "cell_type": "markdown",
   "metadata": {},
   "source": [
    "## V. Manipulation des dataframe\n",
    "***Objectif*** Utiliser les dataframe pour étudier les températures et précipitations moyennes sur la France.\n",
    "\n",
    "### V.1. Chargement des données\n",
    "\n",
    "À l'aide de la fonction `read.csv`, charger le fichier EOBS_FR.csv dans une variable `data` tel que:\n",
    "- Les deux colonnes contiennent la température et les précipitations,\n",
    "- Les colonnes soient nommées,\n",
    "- Les colonnes sont indexées par les dates,\n",
    "\n",
    "Indices : lire la doc de la fonction `read.csv`, attention aux mot clés `header` et `row.names`.\n"
   ]
  },
  {
   "cell_type": "code",
   "execution_count": null,
   "metadata": {},
   "outputs": [],
   "source": [
    "####################################\n",
    "## Écrire votre réponse entre ici...\n",
    "\n",
    "data = read.csv( \"data/EOBS_FR.csv\" , row.names = 1 )\n",
    "\n",
    "## ... et la\n",
    "####################################"
   ]
  },
  {
   "cell_type": "markdown",
   "metadata": {},
   "source": [
    "***Question*** Afficher un résumé des statistiques du jeu de données."
   ]
  },
  {
   "cell_type": "code",
   "execution_count": null,
   "metadata": {},
   "outputs": [],
   "source": [
    "####################################\n",
    "## Écrire votre réponse entre ici...\n",
    "\n",
    "print(summary(data))\n",
    "\n",
    "# ... et la\n",
    "####################################"
   ]
  },
  {
   "cell_type": "markdown",
   "metadata": {},
   "source": [
    "### V.2. Selection de sous ensemble\n",
    "\n",
    "Executez le code suivant, et comprennez en le fonctionnement:\n",
    "\n",
    "~~~\n",
    "subset( data , format.Date( row.names(data) , \"%m\" ) %in% base::c(\"06\",\"07\",\"08\") )\n",
    "~~~\n"
   ]
  },
  {
   "cell_type": "code",
   "execution_count": null,
   "metadata": {},
   "outputs": [],
   "source": [
    "####################################\n",
    "## Écrire votre réponse entre ici...\n",
    "\n",
    "data_JJA = subset( data , format.Date( row.names(data) , \"%m\" ) %in% base::c(\"06\",\"07\",\"08\") )\n",
    "## Permet de récupérer uniquement les Juin/ Juillet / Aout\n",
    "\n",
    "## ... et la\n",
    "####################################"
   ]
  },
  {
   "cell_type": "markdown",
   "metadata": {},
   "source": [
    "***Questions*** Affichez un résumé des statistiques pour chaque saison."
   ]
  },
  {
   "cell_type": "code",
   "execution_count": null,
   "metadata": {},
   "outputs": [],
   "source": [
    "####################################\n",
    "## Écrire votre réponse entre ici...\n",
    "\n",
    "data_DJF = subset( data , format.Date( row.names(data) , \"%m\" ) %in% base::c(\"12\",\"01\",\"02\") )\n",
    "data_MAM = subset( data , format.Date( row.names(data) , \"%m\" ) %in% base::c(\"03\",\"04\",\"05\") )\n",
    "data_JJA = subset( data , format.Date( row.names(data) , \"%m\" ) %in% base::c(\"06\",\"07\",\"08\") )\n",
    "data_SON = subset( data , format.Date( row.names(data) , \"%m\" ) %in% base::c(\"09\",\"10\",\"11\") )\n",
    "\n",
    "print(summary(data_DJF))\n",
    "print(summary(data_MAM))\n",
    "print(summary(data_JJA))\n",
    "print(summary(data_SON))\n",
    "\n",
    "\n",
    "## ... et la\n",
    "####################################"
   ]
  },
  {
   "cell_type": "markdown",
   "metadata": {},
   "source": [
    "***Questions*** Sur un graphique (avec beaucoup de subplot), afficher les histogrammes des températures et précipitations pour chaque saison, ainsi que la température VS les précipitations. Commentez ces graphes\n",
    "\n",
    "*Tips*: `for( df in list(...) )` vous permet de faire une boucle sur les éléments dans la `list`."
   ]
  },
  {
   "cell_type": "code",
   "execution_count": null,
   "metadata": {},
   "outputs": [],
   "source": [
    "####################################\n",
    "## Écrire votre réponse entre ici...\n",
    "\n",
    "##################################################################################################################\n",
    "## Ce bout de code est spécifique à jupyter, il permet de controler la taille en \"pixel\" de la sortie graphique\n",
    "## Il faudra le réutiliser avant chaque graphique\n",
    "nrow = 4 ## Nombre de lignes de sous-graphique\n",
    "ncol = 3 ## Nombre de colonnes de sous-graphique\n",
    "base::options( repr.plot.width = 6 * ncol , repr.plot.height = 6 * nrow )\n",
    "graphics::par( mfrow = base::c(nrow,ncol) ) ## On construit un graphique découpé en nrow * ncol fenêtres\n",
    "##\n",
    "##################################################################################################################\n",
    "\n",
    "for( df in list(data_DJF,data_MAM,data_JJA,data_SON) )\n",
    "{\n",
    "\tx = base::seq( base::min(df[,1]) , base::max(df[,1]) , length = 80 )\n",
    "\tgraphics::hist( df[,1] , breaks = x , col = grDevices::rgb(1,0,0,0.5) , xlab = \"Tm\" , freq = FALSE , main = \"Histogram of Tm\" )\n",
    "\t\n",
    "\tx = base::seq( base::min(df[,2]) , base::max(df[,2]) , length = 80 )\n",
    "\tgraphics::hist( df[,2] , breaks = x , col = grDevices::rgb(1,0,0,0.5) , xlab = \"Pr\" , freq = FALSE , main = \"Histogram of Pr\" )\n",
    "\t\n",
    "\tgraphics::plot( df[,1] , df[,2] , col = \"red\" , xlab = \"Tm\" , ylab = \"Pr\" )\n",
    "}\n",
    "\n",
    "\n",
    "## ... et la\n",
    "####################################"
   ]
  },
  {
   "cell_type": "markdown",
   "metadata": {},
   "source": [
    "### V.3 Quelques manipulations supplémentaires\n",
    "\n",
    "En utilisant la fonction `subset`:\n",
    "- Construire un dataframe ne contenant que les jours sans pluies (disons Pr < 0.1), nommée `data_sec`,\n",
    "- Construire un dataframe contenant les jours très pluvieux (> 3eme quartile) avec une température d'au moins 20C, nommée `data_tropic`,\n",
    "- Construire un dataframe contenant les jours sans pluies et avec des températures négatives, nommée `data_polair`,\n",
    "\n",
    "Refaire les mêmes extractions sans la fonction `subset`.\n"
   ]
  },
  {
   "cell_type": "code",
   "execution_count": null,
   "metadata": {},
   "outputs": [],
   "source": [
    "####################################\n",
    "## Écrire votre réponse entre ici...\n",
    "\n",
    "## Avec la fonction subset\n",
    "data_sec    = subset( data , data$Pr < 0.1 )\n",
    "data_tropic = subset( data , data$Tm > 20 & data$Pr > stats::quantile(data$Pr,0.75) )\n",
    "data_polair = subset( data , data$Tm < 0 & data$Pr < 0.1 )\n",
    "\n",
    "## Sans la fonction subset\n",
    "data_sec2    = data[data$Pr < 0.1,]\n",
    "data_tropic2 = data[data$Tm > 20 & data$Pr > stats::quantile(data$Pr,0.75),]\n",
    "data_polair  = data[data$Tm < 0 & data$Pr < 0.1,]\n",
    "\n",
    "## ... et la\n",
    "####################################"
   ]
  },
  {
   "cell_type": "code",
   "execution_count": null,
   "metadata": {},
   "outputs": [],
   "source": []
  }
 ],
 "metadata": {
  "kernelspec": {
   "display_name": "R",
   "language": "R",
   "name": "ir"
  },
  "language_info": {
   "codemirror_mode": "r",
   "file_extension": ".r",
   "mimetype": "text/x-r-source",
   "name": "R",
   "pygments_lexer": "r",
   "version": "3.5.2"
  }
 },
 "nbformat": 4,
 "nbformat_minor": 4
}
