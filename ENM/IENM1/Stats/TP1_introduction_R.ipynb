{
 "cells": [
  {
   "cell_type": "markdown",
   "metadata": {},
   "source": [
    "# TP: Introduction au langage R\n",
    "## I. Pré-traitement\n",
    "### I.1 Librairies"
   ]
  },
  {
   "cell_type": "code",
   "execution_count": 2,
   "metadata": {},
   "outputs": [],
   "source": []
  },
  {
   "cell_type": "markdown",
   "metadata": {},
   "source": [
    "### I.2 Variables globales"
   ]
  },
  {
   "cell_type": "code",
   "execution_count": null,
   "metadata": {},
   "outputs": [],
   "source": []
  },
  {
   "cell_type": "markdown",
   "metadata": {},
   "source": [
    "## II. Grand classique de la programmation: les années bissextile\n",
    "Le but de cet exercice est de manipuler les éléments basiques de la programmation dans R avec un exercice classique: calculer si une année est (ou non) bissextile. Rappelons que:\n",
    "\n",
    "*Une année est bissextile si:*\n",
    "- *Elle est divisible par 4,*\n",
    "- *N'elle n'est pas divisible par 100,*\n",
    "- *Sauf si elle est divisible par 400.*\n",
    "\n",
    "Par exemple : 1999 et 1900 ne sont pas bissextiles, par contre 1996, 2000 et 2004 le sont.\n",
    "\n",
    "Cet exercice va nous permettre de manipuler quelques basiques de la programmations :\n",
    "- Arithmétique élémentaire (reste d'une division euclidienne),\n",
    "- Tests logique,\n",
    "- Opérations sur les tests,\n",
    "- Fonctions,\n",
    "- Boucle,\n",
    "- Vectorialisation."
   ]
  },
  {
   "cell_type": "markdown",
   "metadata": {},
   "source": [
    "### II.1 Division euclidienne et test d'égalité\n",
    "En R, la division Euclidienne et son reste se font avec les opérateurs `%/%` et `%%`. Autrement dit, si on fait la division euclidienne de `y` par `x`, on a: `y = x * (y %/% x) + (y %% x)`.\n",
    "\n",
    "***Quelques tests***\n",
    "Pour différentes valeur de `x` et `y` que vous choisirez, calculez la division euclidienne de `y` par `x` ainsi que le rester, et vérifiez qu'on a bien `y = x * (y %/% x) + (y %% x)`"
   ]
  },
  {
   "cell_type": "code",
   "execution_count": null,
   "metadata": {},
   "outputs": [],
   "source": [
    "####################################\n",
    "## Écrire votre réponse entre ici...\n",
    "\n",
    "## ... et la\n",
    "####################################"
   ]
  },
  {
   "cell_type": "markdown",
   "metadata": {},
   "source": [
    "Plutot que de vérifier séparement que `y` est égal à `x * (y %/% x) + (y %% x)`, on voudrait *tester* cette égalité. Cette opération peut se faire grace à un *test logique*, donnée par l'opérateur `==`. Cet opérateur peut renvoyer deux valeurs: `TRUE` (si l'égalité est vrai) ou `FALSE` (si l'égalité est fausse). Dans la pratique:\n",
    "\n",
    "***Afficher***\n",
    "- `0 == 3`\n",
    "- `0 == 0`\n",
    "- `2 == 2`\n",
    "- `0 == (1-1/3-2/3)`\n",
    "\n",
    "Quel est le problème avec le dernier test ?"
   ]
  },
  {
   "cell_type": "code",
   "execution_count": 69,
   "metadata": {},
   "outputs": [],
   "source": [
    "####################################\n",
    "## Écrire votre réponse entre ici...\n",
    "\n",
    "## ... et la\n",
    "####################################"
   ]
  },
  {
   "cell_type": "markdown",
   "metadata": {},
   "source": [
    "***Question*** Avec cet opérateur, vérifiez qu'on a bien `y = x * (y %/% x) + (y %% x)` pour diverses valeurs de `y` et `x`."
   ]
  },
  {
   "cell_type": "code",
   "execution_count": 70,
   "metadata": {},
   "outputs": [],
   "source": [
    "####################################\n",
    "## Écrire votre réponse entre ici...\n",
    "\n",
    "## ... et la\n",
    "####################################"
   ]
  },
  {
   "cell_type": "markdown",
   "metadata": {},
   "source": [
    "***Question*** Avec ce que nous venons de voir, comment vérifier qu'une année `y` est divisible par 4 ? Par 100 ? Par 400 ?"
   ]
  },
  {
   "cell_type": "code",
   "execution_count": 70,
   "metadata": {},
   "outputs": [],
   "source": [
    "####################################\n",
    "## Écrire votre réponse entre ici...\n",
    "\n",
    "## ... et la\n",
    "####################################"
   ]
  },
  {
   "cell_type": "markdown",
   "metadata": {},
   "source": [
    "Dans la définition des années bissextiles, l'année `y` *ne doit pas* être divisible par 100. Ceci peut-être fait de deux manière:\n",
    "\n",
    "- Soit avec l'opérateur `!=`, qui au lieu de test l'égalité, vérifie que deux nombres sont différents,\n",
    "- Soit en appliquant l'opérateur `!` au test d'égalité.\n",
    "\n",
    "Autrement dit on a l'égalité entre `a != b` et `!(a==b)`.\n",
    "\n",
    "***Question*** Avec chacun de ces approches, comment vérifier que `y` n'est pas divisible par 100 ?"
   ]
  },
  {
   "cell_type": "code",
   "execution_count": 70,
   "metadata": {},
   "outputs": [],
   "source": [
    "####################################\n",
    "## Écrire votre réponse entre ici...\n",
    "\n",
    "## ... et la\n",
    "####################################"
   ]
  },
  {
   "cell_type": "markdown",
   "metadata": {},
   "source": [
    "### II.2. Factoriser son code: les fonctions\n",
    "Examinons le code suivant:\n",
    "\n",
    "```\n",
    "addition = function( x , y )\n",
    "{\n",
    "    return( x + y )\n",
    "}\n",
    "\n",
    "addition( 2 , 3 ) ## == 5\n",
    "```\n",
    "\n",
    "Ce code est ce qu'on appelle une *fonction*. C'est un bloc de code autonome qui peut être appelé à n'importe quel endroit d'un script. Les éléments `x` et `y` sont les *entrées* (libre à vous d'en mettre plus ou moins). Le mot clé `return` permet d'indiquer ce qui est renvoyé par la fonction. Les fonctions permettent de:\n",
    "\n",
    "- Factoriser le code (si un ensemble d'instruction est utilisé plusieurs fois, on les met dans une fonction et on appelle la fonction)\n",
    "- Découper des scripts complexes en une suite de fonction lisibles, chacune ayant une tache bien précise.\n",
    "\n",
    "Code de bonne conduite pour construire une fonction:\n",
    "- Le nom d'une fonction doit permettre de comprendre ce que va faire la fonction\n",
    "- Une fonction doit être autonome, i.e. elle ne doit pas utiliser de variables exterieure à sa définition.\n",
    "- Elle doit toujours comprendre un `return` quitte à terminer sur `invisible(NULL)` si elle ne renvoie rien.\n",
    "\n",
    "***Questions***\n",
    "Ci dessous trois exemples de mauvaises fonctions, trouver les problèmes et les corriger.\n",
    "\n",
    "```\n",
    "m_f = function()\n",
    "{\n",
    "    print(\"je suis une mauvaise fonction\")\n",
    "    invisible(NULL)\n",
    "}\n",
    "```\n",
    "\n",
    "```\n",
    "mauvaise_fonction = function()\n",
    "{\n",
    "    print(\"je suis aussi une mauvaise fonction\")\n",
    "}\n",
    "```\n",
    "\n",
    "```\n",
    "x = 3\n",
    "tres_mauvaise_fonction = function()\n",
    "{\n",
    "    print(\"je suis une tres mauvaise fonction qui va occasioner beaucoup de probleme\")\n",
    "    return(x+2)\n",
    "}\n",
    "```"
   ]
  },
  {
   "cell_type": "code",
   "execution_count": 75,
   "metadata": {},
   "outputs": [],
   "source": [
    "####################################\n",
    "## Écrire votre réponse entre ici...\n",
    "\n",
    "## ... et la\n",
    "####################################"
   ]
  },
  {
   "cell_type": "code",
   "execution_count": 76,
   "metadata": {},
   "outputs": [],
   "source": [
    "####################################\n",
    "## Écrire votre réponse entre ici...\n",
    "\n",
    "## ... et la\n",
    "####################################"
   ]
  },
  {
   "cell_type": "code",
   "execution_count": 77,
   "metadata": {},
   "outputs": [],
   "source": [
    "####################################\n",
    "## Écrire votre réponse entre ici...\n",
    "\n",
    "## ... et la\n",
    "####################################"
   ]
  },
  {
   "cell_type": "markdown",
   "metadata": {},
   "source": [
    "***Questions*** En s'inspirant de ce qui précède, construire trois fonctions qui prennent en entrée une année `y`, et qui renvoie `TRUE` si l'année est divisible par 4 (resp. 100 et 400), et `FALSE` sinon."
   ]
  },
  {
   "cell_type": "code",
   "execution_count": 83,
   "metadata": {},
   "outputs": [],
   "source": [
    "####################################\n",
    "## Écrire votre réponse entre ici...\n",
    "\n",
    "divisible_par_4 = function(y)\n",
    "{\n",
    "\treturn(y %% 4 == 0)\n",
    "}\n",
    "\n",
    "## ... et la\n",
    "####################################"
   ]
  },
  {
   "cell_type": "code",
   "execution_count": 84,
   "metadata": {},
   "outputs": [],
   "source": [
    "####################################\n",
    "## Écrire votre réponse entre ici...\n",
    "\n",
    "divisible_par_100 = function(y)\n",
    "{\n",
    "\treturn(y %% 100 == 0)\n",
    "}\n",
    "\n",
    "## ... et la\n",
    "####################################"
   ]
  },
  {
   "cell_type": "code",
   "execution_count": 85,
   "metadata": {},
   "outputs": [],
   "source": [
    "####################################\n",
    "## Écrire votre réponse entre ici...\n",
    "\n",
    "divisible_par_400 = function(y)\n",
    "{\n",
    "\treturn(y %% 400 == 0)\n",
    "}\n",
    "\n",
    "## ... et la\n",
    "####################################"
   ]
  },
  {
   "cell_type": "markdown",
   "metadata": {},
   "source": [
    "***Questions*** Les trois fonctions que vous venez de code sont extremement similaires. Construisez une fonction qui prend une année `y` et un entier `x`, et qui renvoie `TRUE` si `y` est divisible par `x`, et `FALSE` sinon."
   ]
  },
  {
   "cell_type": "code",
   "execution_count": 86,
   "metadata": {},
   "outputs": [],
   "source": [
    "####################################\n",
    "## Écrire votre réponse entre ici...\n",
    "\n",
    "divisible_par_x = function( y , x )\n",
    "{\n",
    "\treturn(y %% x == 0)\n",
    "}\n",
    "\n",
    "## ... et la\n",
    "####################################"
   ]
  },
  {
   "cell_type": "markdown",
   "metadata": {},
   "source": [
    "### II.3 Opérations sur les booléens: le OU et le ET\n",
    "Dans cette section nous allons introduire les deux opérateurs logiques suivants:\n",
    "\n",
    "- le OU, noté `||`\n",
    "- le ET, noté `&&`\n",
    "\n",
    "Par exemple `TRUE && TRUE == TRUE`, ou encore ` (1 < 2) && (1 > 0) == TRUE`.\n",
    "\n",
    "***Question*** En jouant avec ces opérateurs, remplissez les tableaux suivants:\n",
    "\n",
    "|  ET   | TRUE  | FALSE  |\n",
    "|-------|:-----:|:------:|\n",
    "| TRUE  |  TRUE |    ?   |\n",
    "| FALSE |   ?   |    ?   |\n",
    "\n",
    "\n",
    "|  OU   | TRUE  | FALSE  |\n",
    "|-------|:-----:|:------:|\n",
    "| TRUE  |   ?   |    ?   |\n",
    "| FALSE |   ?   |    ?   |\n",
    "\n",
    "***Question*** Quels opérateurs mathématiques sont équivalents au OU et au ET ?"
   ]
  },
  {
   "cell_type": "code",
   "execution_count": 71,
   "metadata": {},
   "outputs": [],
   "source": [
    "####################################\n",
    "## Écrire votre réponse entre ici...\n",
    "\n",
    "## ... et la\n",
    "####################################"
   ]
  },
  {
   "cell_type": "markdown",
   "metadata": {},
   "source": [
    "***Questions***\n",
    "\n",
    "- En mélangeant tout ce que vous venez d'apprendre, construisez une fonction qui renvoie `TRUE` si l'année `y` est bissextile, et `FALSE` sinon.\n",
    "- Tester votre fonctions sur les années suivantes : 1900, 1996, 1999, 2000 et 2004."
   ]
  },
  {
   "cell_type": "code",
   "execution_count": 93,
   "metadata": {},
   "outputs": [
    {
     "name": "stdout",
     "output_type": "stream",
     "text": [
      "[1] FALSE\n",
      "[1] TRUE\n",
      "[1] FALSE\n",
      "[1] TRUE\n",
      "[1] TRUE\n"
     ]
    }
   ],
   "source": [
    "####################################\n",
    "## Écrire votre réponse entre ici...\n",
    "\n",
    "est_bissextile = function(y)\n",
    "{\n",
    "\tpossibilite_1 = divisible_par_x( y , 4 ) && !divisible_par_x( y , 100 )\n",
    "\tpossibilite_2 = divisible_par_x( y , 400 )\n",
    "\treturn( possibilite_1 || possibilite_2 )\n",
    "}\n",
    "\n",
    "print(est_bissextile(1900))\n",
    "print(est_bissextile(1996))\n",
    "print(est_bissextile(1999))\n",
    "print(est_bissextile(2000))\n",
    "print(est_bissextile(2004))\n",
    "\n",
    "## ... et la\n",
    "####################################"
   ]
  },
  {
   "cell_type": "markdown",
   "metadata": {},
   "source": [
    "### II.4 Boucle et vectorialisation\n",
    "Posons le problème suivant: *je veux afficher pour toutes les années entre 1850 et 2100 si elle sont bissextiles ou non*.\n",
    "\n",
    "Autrement dit, pour 250 années nous voulons savoir si elle sont bissextiles. Il est impraticable d'écrire 250 lignes de code appelant chacune la fonction qui teste si une année est bissextile ou non, i.e. un code de la forme:\n",
    "\n",
    "```\n",
    "est_bissextile(1850)\n",
    "est_bissextile(1851)\n",
    "est_bissextile(1852)\n",
    "## ... plein de lignes\n",
    "est_bissextile(2099)\n",
    "est_bissextile(2100)\n",
    "```\n",
    "\n",
    "Pour résoudre ce problème, nous allons proposer deux approches:\n",
    "- Une boucle `for`\n",
    "- La vectorialisation\n",
    "\n",
    "#### II.4.1 Les vecteurs\n",
    "\n",
    "La première chose est de pouvoir stocker les années entre 1850 et 2100 dans une unique variable. Nous allons donc devoir manipuler des vecteurs. Voici quelques manières de créer des vecteurs:\n",
    "\n",
    "***Questions***\n",
    "\n",
    "- Afficher `1:10`, que fait ce code?\n",
    "- Afficher `numeric(10)`, que fait ce code?\n",
    "- Afficher `base::c(1,4,8,-3,1.5)`, que fait ce code?\n",
    "- Afficher `base::seq( 3 , 12 )`, que fait ce code?\n",
    "- Afficher `base::seq( 1 , 20 , 3 )`, que fait ce code?\n",
    "- Afficher `base::seq( 10 , 5 , -1 )`, que fait ce code?\n",
    "- Afficher `base::seq( 0 , 1 , length = 10 )`, que fait ce code?\n",
    "- Choisissez un des vecteurs précédents, stocker le dans une variable `y`, et afficher `y[1]`, `y[2]`, `y[0]`, `y[-1]`. Conclusion?"
   ]
  },
  {
   "cell_type": "code",
   "execution_count": 111,
   "metadata": {},
   "outputs": [],
   "source": [
    "####################################\n",
    "## Écrire votre réponse entre ici...\n",
    "\n",
    "## ... et la\n",
    "####################################"
   ]
  },
  {
   "cell_type": "markdown",
   "metadata": {},
   "source": [
    "***Question*** Construisez un vecteur `years` qui contient les années entre 1850 et 2100"
   ]
  },
  {
   "cell_type": "code",
   "execution_count": 119,
   "metadata": {},
   "outputs": [],
   "source": [
    "####################################\n",
    "## Écrire votre réponse entre ici...\n",
    "\n",
    "years = base::seq( 1850 , 2100 , 1 )\n",
    "\n",
    "## ... et la\n",
    "####################################"
   ]
  },
  {
   "cell_type": "markdown",
   "metadata": {},
   "source": [
    "#### II.4.2 Les boucles `for`\n",
    "\n",
    "Examinez et executez le code suivant:\n",
    "\n",
    "```\n",
    "for( i in base::seq( 1 , 5 ) )\n",
    "{\n",
    "    print(i)\n",
    "}\n",
    "```\n",
    "\n",
    "***Question***\n",
    "- Que fait ce code, comment fonctionne t'il ?\n",
    "- En vous inspirant de ce code, et à l'aide du vecteur `years` de la section precedente, affichez si une année est bissextiles ou non entre 1850 et 2100"
   ]
  },
  {
   "cell_type": "code",
   "execution_count": 113,
   "metadata": {},
   "outputs": [],
   "source": [
    "####################################\n",
    "## Écrire votre réponse entre ici...\n",
    "\n",
    "## ... et la\n",
    "####################################"
   ]
  },
  {
   "cell_type": "markdown",
   "metadata": {},
   "source": [
    "#### II.4.3 Vectorialisation\n",
    "Même si les boucles for ont le mérite de la simplicité, elles sont atrocement lente en R, et il vaut mieux éviter de les utiliser. C'est ici qu'intervient la *vectorialisation*: appliquer directement une fonction ou un operateur non plus à un nombre, mais à un *vecteur*.\n",
    "\n",
    "***Question*** Pourquoi cette approche est meilleure qu'une boucle for ?\n",
    "\n",
    "***Question*** Essayez d'appliquer directement votre fonction pour tester si une année est bissextile au vecteur `years`. Que se passe t'il ?\n"
   ]
  },
  {
   "cell_type": "code",
   "execution_count": 118,
   "metadata": {},
   "outputs": [],
   "source": [
    "####################################\n",
    "## Écrire votre réponse entre ici...\n",
    "\n",
    "## ... et la\n",
    "####################################"
   ]
  },
  {
   "cell_type": "markdown",
   "metadata": {},
   "source": [
    "***Question***\n",
    "\n",
    "Executer le code suivant:\n",
    "\n",
    "```\n",
    "base::c(TRUE,TRUE,FALSE,FALSE) & base::c(TRUE,FALSE,TRUE,FALSE)\n",
    "base::c(TRUE,TRUE,FALSE,FALSE) | base::c(TRUE,FALSE,TRUE,FALSE)\n",
    "```\n",
    "\n",
    "Quel est le résultat ?"
   ]
  },
  {
   "cell_type": "code",
   "execution_count": 120,
   "metadata": {},
   "outputs": [],
   "source": [
    "####################################\n",
    "## Écrire votre réponse entre ici...\n",
    "\n",
    "\n",
    "\n",
    "## ... et la\n",
    "####################################"
   ]
  },
  {
   "cell_type": "markdown",
   "metadata": {},
   "source": [
    "***Question*** Adaptez votre fonction de calcul d'année bissextile pour qu'elle opère sur des vecteurs (sans utiliser de boucle for)"
   ]
  },
  {
   "cell_type": "code",
   "execution_count": 121,
   "metadata": {},
   "outputs": [],
   "source": [
    "####################################\n",
    "## Écrire votre réponse entre ici...\n",
    "\n",
    "est_bissextile = function(y)\n",
    "{\n",
    "\tpossibilite_1 = divisible_par_x( y , 4 ) & !divisible_par_x( y , 100 )\n",
    "\tpossibilite_2 = divisible_par_x( y , 400 )\n",
    "\treturn( possibilite_1 | possibilite_2 )\n",
    "}\n",
    "\n",
    "## ... et la\n",
    "####################################"
   ]
  },
  {
   "cell_type": "markdown",
   "metadata": {},
   "source": [
    "***Question***\n",
    "Executez le code suivant:\n",
    "```\n",
    "x = base::seq( -1 , 1 , 10 )\n",
    "print(x[x < 0])\n",
    "```\n",
    "\n",
    "- Qu'avez vous affiché ?\n",
    "- Adaptez ce code pour afficher les années bissextiles entre 1850 et 2100"
   ]
  },
  {
   "cell_type": "code",
   "execution_count": 123,
   "metadata": {},
   "outputs": [
    {
     "name": "stdout",
     "output_type": "stream",
     "text": [
      " [1] 1852 1856 1860 1864 1868 1872 1876 1880 1884 1888 1892 1896 1904 1908 1912\n",
      "[16] 1916 1920 1924 1928 1932 1936 1940 1944 1948 1952 1956 1960 1964 1968 1972\n",
      "[31] 1976 1980 1984 1988 1992 1996 2000 2004 2008 2012 2016 2020 2024 2028 2032\n",
      "[46] 2036 2040 2044 2048 2052 2056 2060 2064 2068 2072 2076 2080 2084 2088 2092\n",
      "[61] 2096\n"
     ]
    }
   ],
   "source": [
    "####################################\n",
    "## Écrire votre réponse entre ici...\n",
    "\n",
    "print( years[est_bissextile(years)])\n",
    "\n",
    "## ... et la\n",
    "####################################"
   ]
  },
  {
   "cell_type": "markdown",
   "metadata": {},
   "source": [
    "## III. Premier pas dans l'aléa: simulation d'un lancé de dé\n",
    "### III.1 Fonction `base::sample`\n",
    "Taper `help(sample)` dans une console R. À quoi correspond chacun de ces arguments:\n",
    "- `x`\n",
    "- `size`\n",
    "- `replace`\n",
    "- `prob`\n",
    "Qu'est ce qu'un argument *obligatoire*? *Optionel* ?"
   ]
  },
  {
   "cell_type": "code",
   "execution_count": 174,
   "metadata": {},
   "outputs": [],
   "source": [
    "####################################\n",
    "## Écrire votre réponse entre ici...\n",
    "\n",
    "## ... et la\n",
    "####################################"
   ]
  },
  {
   "cell_type": "markdown",
   "metadata": {},
   "source": [
    "***Question*** Avec la fonction `base::sample`:\n",
    "- Tirer avec remise 7 entiers entre 1 et 10\n",
    "- Tirer sans remise 7 entiers entre 1 et 10"
   ]
  },
  {
   "cell_type": "code",
   "execution_count": 175,
   "metadata": {},
   "outputs": [],
   "source": [
    "####################################\n",
    "## Écrire votre réponse entre ici...\n",
    "\n",
    "## ... et la\n",
    "####################################"
   ]
  },
  {
   "cell_type": "markdown",
   "metadata": {},
   "source": [
    "### III.2 Lançons les dés\n",
    "Avec la fonction `base::sample`, créer une fonction `jet_de` qui prend en entrée un entier `n` (le nombre de fois qu'on lancera un dé), et qui renvoie un vecteur de taille `n` contenant le numéro de la face de dé tiré, pour un dé à 6 face."
   ]
  },
  {
   "cell_type": "code",
   "execution_count": 176,
   "metadata": {},
   "outputs": [],
   "source": [
    "####################################\n",
    "## Écrire votre réponse entre ici...\n",
    "\n",
    "jet_de = function( n )\n",
    "{\n",
    "\treturn( base::sample( 6 , n , replace = TRUE ) )\n",
    "}\n",
    "\n",
    "## ... et la\n",
    "####################################"
   ]
  },
  {
   "cell_type": "markdown",
   "metadata": {},
   "source": [
    "***Question*** Effectuez 10000 lancé de dés, et comptez le nombre de 1, de 2, ..., de 6. Afficher le résultat en *nombre d'occurences*, et en *fréquences*.\n",
    "Indices:\n",
    "- Utilisez la fonction `base::sum`,\n",
    "- Que valent les sommes `TRUE + TRUE`, `TRUE + FALSE`, `FALSE + FALSE`"
   ]
  },
  {
   "cell_type": "code",
   "execution_count": 179,
   "metadata": {},
   "outputs": [
    {
     "name": "stdout",
     "output_type": "stream",
     "text": [
      "[1] 16714 16504 16742 16674 16563 16803\n",
      "[1] 0.16714 0.16504 0.16742 0.16674 0.16563 0.16803\n"
     ]
    }
   ],
   "source": [
    "####################################\n",
    "## Écrire votre réponse entre ici...\n",
    "\n",
    "X = jet_de(100000)\n",
    "face = numeric(n_face)\n",
    "for( i in 1:n_face )\n",
    "{\n",
    "\tface[i] = base::sum(X==i)\n",
    "}\n",
    "print(face)\n",
    "print(face/base::sum(face))\n",
    "\n",
    "## ... et la\n",
    "####################################"
   ]
  },
  {
   "cell_type": "markdown",
   "metadata": {},
   "source": [
    "### III.3 Changeons de type de dés\n",
    "***Question*** En vous basant sur la fonction `jet_de`, construisez une fonction `jet_custom_de` qui prend en argument obligatoire le nombre de jet de dés `n`, et le nombre de face du dé `n_face`."
   ]
  },
  {
   "cell_type": "code",
   "execution_count": 153,
   "metadata": {},
   "outputs": [],
   "source": [
    "####################################\n",
    "## Écrire votre réponse entre ici...\n",
    "\n",
    "jet_custom_de = function( n , n_face = 6 )\n",
    "{\n",
    "\treturn( base::sample( n_face , n , replace = TRUE ) )\n",
    "}\n",
    "\n",
    "## ... et la\n",
    "####################################"
   ]
  },
  {
   "cell_type": "markdown",
   "metadata": {},
   "source": [
    "***Question*** À l'aide d'une boucle, pour `n_face = 2,3,6,10,20`, effectuez 10000 lancé de dés, et affichez la fréquence de chaque face. "
   ]
  },
  {
   "cell_type": "code",
   "execution_count": 180,
   "metadata": {},
   "outputs": [
    {
     "name": "stdout",
     "output_type": "stream",
     "text": [
      "[1] 0.4973 0.5027\n",
      "[1] 0.3382 0.3274 0.3344\n",
      "[1] 0.1761 0.1700 0.1656 0.1589 0.1665 0.1629\n",
      " [1] 0.1011 0.1000 0.0944 0.1010 0.1013 0.0994 0.1008 0.1004 0.0959 0.1057\n",
      " [1] 0.0512 0.0511 0.0506 0.0516 0.0500 0.0517 0.0471 0.0480 0.0500 0.0502\n",
      "[11] 0.0554 0.0479 0.0472 0.0531 0.0487 0.0482 0.0513 0.0471 0.0514 0.0482\n"
     ]
    }
   ],
   "source": [
    "####################################\n",
    "## Écrire votre réponse entre ici...\n",
    "\n",
    "for( n_face in base::c(2,3,6,10,20) )\n",
    "{\n",
    "\tX = jet_custom_de( 10000 , n_face )\n",
    "\tface = numeric(n_face)\n",
    "\tfor( i in 1:n_face )\n",
    "\t{\n",
    "\t\tface[i] = base::sum( X == i )\n",
    "\t}\n",
    "\tprint( face / base::sum(face) )\n",
    "}\n",
    "\n",
    "## ... et la\n",
    "####################################"
   ]
  },
  {
   "cell_type": "markdown",
   "metadata": {},
   "source": [
    "***Question*** Quel loi de probabilité suit la variable `face`?"
   ]
  },
  {
   "cell_type": "markdown",
   "metadata": {},
   "source": [
    "## IV. Statistiques et calcul matriciel\n",
    "Le but de cet exercice est:\n",
    "\n",
    "- De jouer avec les matrices,\n",
    "- De savoir appliquer une fonction le long des colonnes / lignes d'une matrice,\n",
    "- De jouer avec deux lois statistiques de base: la loi normale et exponentielle,\n",
    "- De savoir dériver quelques statistiques de base d'un jeu de donnée."
   ]
  },
  {
   "cell_type": "markdown",
   "metadata": {},
   "source": [
    "### IV.1 Création d'une jeu de donnée \"climatique\" idéalisé\n",
    "\n",
    "Nous allons commencer par créer une fonction qui va générer notre jeu de donnée. Nous voulons générer une matrix `X` tel que:\n",
    "- La première colonne suive une loi normale $\\mathcal{N}(\\mu = 0,\\sigma^2=1)$ (similaire à des températures)\n",
    "- La seconde colonne suive une loi exponentielle $\\mathcal{E}(\\lambda=2)$ (vaguement similaire à des précipitations).\n",
    "\n",
    "À l'aide de la documentation des fonctions `base::matrix`, `stats::rnorm` et `stats::rexp`, construire un fonction `generate_perfect_climate_data` qui prend en entrée un entier `n` (le nombre d'observations de notre jeu de donnée) et qui renvoie une matrix `X` avec les caractéristiques précédentes.\n"
   ]
  },
  {
   "cell_type": "code",
   "execution_count": 267,
   "metadata": {},
   "outputs": [],
   "source": [
    "####################################\n",
    "## Écrire votre réponse entre ici...\n",
    "\n",
    "generate_perfect_climate_data = function(n)\n",
    "{\n",
    "\tX = matrix( NA , nrow = n , ncol = 2 )\n",
    "\tX[,1] = stats::rnorm( n , mean = 0 , sd = 1 )\n",
    "\tX[,2] = stats::rexp( n , rate = 2 )\n",
    "\t\n",
    "\treturn(X)\n",
    "}\n",
    "\n",
    "## ... et la\n",
    "####################################"
   ]
  },
  {
   "cell_type": "markdown",
   "metadata": {},
   "source": [
    "Générer un jeu de donnée `X` contenant 10000 observations"
   ]
  },
  {
   "cell_type": "code",
   "execution_count": 286,
   "metadata": {},
   "outputs": [],
   "source": [
    "####################################\n",
    "## Écrire votre réponse entre ici...\n",
    "\n",
    "X = generate_perfect_climate_data(10000)\n",
    "\n",
    "## ... et la\n",
    "####################################"
   ]
  },
  {
   "cell_type": "code",
   "execution_count": 285,
   "metadata": {},
   "outputs": [
    {
     "data": {
      "image/png": "[encoded data removed]",
      "text/plain": [
       "Plot with title “”"
      ]
     },
     "metadata": {
      "image/png": {
       "height": 360,
       "width": 720
      },
      "text/plain": {
       "height": 360,
       "width": 720
      }
     },
     "output_type": "display_data"
    }
   ],
   "source": [
    "base::options( repr.plot.width = 12 , repr.plot.height = 6 )\n",
    "graphics::par( mfrow = base::c(1,2) )\n",
    "\n",
    "x = base::seq( -5 , 5 , length = 80 )\n",
    "graphics::hist( X[,1] , breaks = x , col = grDevices::rgb(1,0,0,0.5) , probability = TRUE , xlab = \"T\"  , main = \"\" , ylim = base::c(0,0.4) )\n",
    "graphics::lines( x , dnorm(x) , col = \"red\" )\n",
    "\n",
    "x = base::seq( 0 , 6 , length = 80 )\n",
    "graphics::hist( X[,2] , breaks = x , col = grDevices::rgb(0,0,1,0.5) , probability = TRUE , xlab = \"Pr\" , main = \"\" )\n",
    "graphics::lines( x , dexp(x,rate=2) , col = \"blue\" )\n"
   ]
  },
  {
   "cell_type": "code",
   "execution_count": null,
   "metadata": {},
   "outputs": [],
   "source": []
  }
 ],
 "metadata": {
  "kernelspec": {
   "display_name": "R",
   "language": "R",
   "name": "ir"
  },
  "language_info": {
   "codemirror_mode": "r",
   "file_extension": ".r",
   "mimetype": "text/x-r-source",
   "name": "R",
   "pygments_lexer": "r",
   "version": "3.5.3"
  }
 },
 "nbformat": 4,
 "nbformat_minor": 4
}
