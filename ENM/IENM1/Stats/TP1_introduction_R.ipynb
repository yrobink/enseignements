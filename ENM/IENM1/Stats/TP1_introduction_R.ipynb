{
 "cells": [
  {
   "cell_type": "markdown",
   "metadata": {},
   "source": [
    "# TP: Introduction au langage R\n",
    "## I. Pré-traitement\n",
    "### I.1 Librairies"
   ]
  },
  {
   "cell_type": "code",
   "execution_count": null,
   "metadata": {},
   "outputs": [],
   "source": []
  },
  {
   "cell_type": "markdown",
   "metadata": {},
   "source": [
    "### I.2 Variables globales"
   ]
  },
  {
   "cell_type": "code",
   "execution_count": null,
   "metadata": {},
   "outputs": [],
   "source": []
  },
  {
   "cell_type": "markdown",
   "metadata": {},
   "source": [
    "## II. Grand classique de la programmation: les années bissextile\n",
    "Le but de cet exercice est de manipuler les éléments basiques de la programmation dans R avec un exercice classique: calculer si une année est (ou non) bissextile. Rappelons que:\n",
    "\n",
    "*Une année est bissextile si:*\n",
    "- *Elle est divisible par 4,*\n",
    "- *N'elle n'est pas divisible par 100,*\n",
    "- *Sauf si elle est divisible par 400.*\n",
    "\n",
    "Par exemple : 1999 et 1900 ne sont pas bissextiles, par contre 1996, 2000 et 2004 le sont.\n",
    "\n",
    "Cet exercice va nous permettre de manipuler quelques basiques de la programmations :\n",
    "- Arithmétique élémentaire (reste d'une division euclidienne),\n",
    "- Tests logique,\n",
    "- Opérations sur les tests,\n",
    "- Fonctions,\n",
    "- Boucle,\n",
    "- Vectorisation."
   ]
  },
  {
   "cell_type": "markdown",
   "metadata": {},
   "source": [
    "### II.1 Division euclidienne et test d'égalité\n",
    "En R, la division Euclidienne et son reste se font respectivement avec les opérateurs `%/%` et `%%`. Autrement dit, si on fait la division euclidienne de `y` par `x`, on a: `y = x * (y %/% x) + (y %% x)`.\n",
    "\n",
    "***Quelques tests***\n",
    "- Pour différentes valeur de `x` et `y` que vous choisirez, calculez la division euclidienne de `y` par `x` ainsi que le reste, et vérifiez qu'on a bien `y = x * (y %/% x) + (y %% x)`\n",
    "- Essayer avec des flottants, que se passe t'il ?"
   ]
  },
  {
   "cell_type": "code",
   "execution_count": 1,
   "metadata": {},
   "outputs": [],
   "source": [
    "####################################\n",
    "## Écrire votre réponse entre ici...\n",
    "\n",
    "## ... et la\n",
    "####################################"
   ]
  },
  {
   "cell_type": "markdown",
   "metadata": {},
   "source": [
    "Plutot que de vérifier séparement que `y` est égal à `x * (y %/% x) + (y %% x)`, on voudrait *tester* cette égalité. Cette opération peut se faire grace à un *test logique*, donnée par l'opérateur `==`. Cet opérateur peut renvoyer deux valeurs: `TRUE` (si l'égalité est vrai) ou `FALSE` (si l'égalité est fausse). Dans la pratique:\n",
    "\n",
    "***Afficher***\n",
    "- `0 == 3`\n",
    "- `0 == 0`\n",
    "- `2 == 2`\n",
    "- `1 == 1 / 3 + 2 / 3`\n",
    "- `0 == (1-1/3-2/3)`\n",
    "- `0 == 1-(1/3+2/3)`\n",
    "\n",
    "Quel sont les problèmes avec les deux derniers tests ?"
   ]
  },
  {
   "cell_type": "code",
   "execution_count": 3,
   "metadata": {},
   "outputs": [
    {
     "data": {
      "text/html": [
       "TRUE"
      ],
      "text/latex": [
       "TRUE"
      ],
      "text/markdown": [
       "TRUE"
      ],
      "text/plain": [
       "[1] TRUE"
      ]
     },
     "metadata": {},
     "output_type": "display_data"
    }
   ],
   "source": [
    "####################################\n",
    "## Écrire votre réponse entre ici...\n",
    "\n",
    "## ... et la\n",
    "####################################"
   ]
  },
  {
   "cell_type": "markdown",
   "metadata": {},
   "source": [
    "***Question*** Avec cet opérateur, vérifiez qu'on a bien `y = x * (y %/% x) + (y %% x)` pour diverses valeurs de `y` et `x`."
   ]
  },
  {
   "cell_type": "code",
   "execution_count": 3,
   "metadata": {},
   "outputs": [],
   "source": [
    "####################################\n",
    "## Écrire votre réponse entre ici...\n",
    "\n",
    "## ... et la\n",
    "####################################"
   ]
  },
  {
   "cell_type": "markdown",
   "metadata": {},
   "source": [
    "***Question*** Avec ce que nous venons de voir, comment vérifier qu'une année `y` est divisible par 4 ? Par 100 ? Par 400 ?"
   ]
  },
  {
   "cell_type": "code",
   "execution_count": 4,
   "metadata": {},
   "outputs": [],
   "source": [
    "####################################\n",
    "## Écrire votre réponse entre ici...\n",
    "\n",
    "## ... et la\n",
    "####################################"
   ]
  },
  {
   "cell_type": "markdown",
   "metadata": {},
   "source": [
    "Dans la définition des années bissextiles, l'année `y` *ne doit pas* être divisible par 100. Ceci peut-être testé de deux manières:\n",
    "\n",
    "- Soit avec l'opérateur `!=`, qui au lieu de tester l'égalité, vérifie que deux nombres sont différents,\n",
    "- Soit en appliquant l'opérateur `!` au test d'égalité.\n",
    "\n",
    "Autrement dit on a équivalence entre les expressions `a != b` et `!(a==b)`.\n",
    "\n",
    "***Question*** Avec chacune de ces approches, comment vérifier que `y` n'est pas divisible par 100 ?"
   ]
  },
  {
   "cell_type": "code",
   "execution_count": 5,
   "metadata": {},
   "outputs": [],
   "source": [
    "####################################\n",
    "## Écrire votre réponse entre ici...\n",
    "\n",
    "## ... et la\n",
    "####################################"
   ]
  },
  {
   "cell_type": "markdown",
   "metadata": {},
   "source": [
    "### II.2. Factoriser son code: les fonctions\n",
    "Examinons le code suivant:\n",
    "\n",
    "```\n",
    "addition = function( x , y )\n",
    "{\n",
    "    return( x + y )\n",
    "}\n",
    "\n",
    "addition( 2 , 3 ) ## == 5\n",
    "```\n",
    "\n",
    "Ce code est ce qu'on appelle une *fonction*. C'est un bloc de code autonome qui peut être appelé à n'importe quel endroit d'un script. Les éléments `x` et `y` sont les *entrées* (libre à vous d'en mettre plus ou moins). Le mot clé `return` permet d'indiquer ce qui est renvoyé par la fonction. Les fonctions permettent de:\n",
    "\n",
    "- Factoriser le code (si un ensemble d'instruction est utilisé plusieurs fois, on les met dans une fonction et on appelle la fonction)\n",
    "- Découper des scripts complexes en une suite de fonction lisibles, chacune ayant une tache bien précise.\n",
    "\n",
    "Code de bonne conduite pour construire une fonction:\n",
    "- Le nom d'une fonction doit permettre de comprendre ce que va faire la fonction\n",
    "- Une fonction doit être autonome, i.e. elle ne doit pas utiliser de variables exterieure à sa définition.\n",
    "- Elle doit toujours comprendre un `return` quitte à terminer sur `invisible(NULL)` si elle ne renvoie rien.\n",
    "\n",
    "***Questions***\n",
    "Ci dessous trois exemples de mauvaises fonctions, trouver les problèmes et les corriger.\n",
    "\n",
    "```\n",
    "m_f = function()\n",
    "{\n",
    "    print(\"je suis une mauvaise fonction\")\n",
    "    invisible(NULL)\n",
    "}\n",
    "```\n",
    "\n",
    "```\n",
    "mauvaise_fonction = function()\n",
    "{\n",
    "    print(\"je suis aussi une mauvaise fonction\")\n",
    "}\n",
    "```\n",
    "\n",
    "```\n",
    "x = 3\n",
    "tres_mauvaise_fonction = function()\n",
    "{\n",
    "    print(\"je suis une tres mauvaise fonction qui va occasioner beaucoup de problemes\")\n",
    "    return(x+2)\n",
    "}\n",
    "```\n",
    "\n",
    "***Question***\n",
    "Quelle est la différence entre `invisible` et `return`?"
   ]
  },
  {
   "cell_type": "code",
   "execution_count": 8,
   "metadata": {},
   "outputs": [],
   "source": [
    "####################################\n",
    "## Écrire votre réponse entre ici...\n",
    "\n",
    "## ... et la\n",
    "####################################"
   ]
  },
  {
   "cell_type": "markdown",
   "metadata": {},
   "source": [
    "***Questions*** En s'inspirant de ce qui précède, construire trois fonctions qui prennent en entrée une année `y`, et qui renvoie `TRUE` si l'année est divisible par 4 (resp. 100 et 400), et `FALSE` sinon."
   ]
  },
  {
   "cell_type": "code",
   "execution_count": 11,
   "metadata": {},
   "outputs": [],
   "source": [
    "####################################\n",
    "## Écrire votre réponse entre ici...\n",
    "\n",
    "## ... et la\n",
    "####################################"
   ]
  },
  {
   "cell_type": "markdown",
   "metadata": {},
   "source": [
    "***Questions*** Les trois fonctions que vous venez de coder sont extremement similaires. Construisez une fonction qui prend une année `y` et un entier `x`, et qui renvoie `TRUE` si `y` est divisible par `x`, et `FALSE` sinon."
   ]
  },
  {
   "cell_type": "code",
   "execution_count": 12,
   "metadata": {},
   "outputs": [],
   "source": [
    "####################################\n",
    "## Écrire votre réponse entre ici...\n",
    "\n",
    "## ... et la\n",
    "####################################"
   ]
  },
  {
   "cell_type": "markdown",
   "metadata": {},
   "source": [
    "### II.3 Opérations sur les booléens: le OU et le ET\n",
    "Dans cette section nous allons introduire les deux opérateurs logiques suivants:\n",
    "\n",
    "- le OU, noté `||`\n",
    "- le ET, noté `&&`\n",
    "\n",
    "Par exemple `TRUE && TRUE == TRUE`, ou encore ` (1 < 2) && (1 > 0) == TRUE`.\n",
    "\n",
    "***Question*** En jouant avec ces opérateurs, remplissez les tableaux suivants:\n",
    "\n",
    "|  ET   | TRUE  | FALSE  |\n",
    "|-------|:-----:|:------:|\n",
    "| TRUE  |  TRUE |    ?   |\n",
    "| FALSE |   ?   |    ?   |\n",
    "\n",
    "\n",
    "|  OU   | TRUE  | FALSE  |\n",
    "|-------|:-----:|:------:|\n",
    "| TRUE  |   ?   |    ?   |\n",
    "| FALSE |   ?   |    ?   |\n",
    "\n",
    "***Question*** Quels opérateurs mathématiques sont équivalents au OU et au ET ?"
   ]
  },
  {
   "cell_type": "code",
   "execution_count": 13,
   "metadata": {},
   "outputs": [],
   "source": [
    "####################################\n",
    "## Écrire votre réponse entre ici...\n",
    "\n",
    "## ... et la\n",
    "####################################"
   ]
  },
  {
   "cell_type": "markdown",
   "metadata": {},
   "source": [
    "***Exercice***\n",
    "\n",
    "- Construisez une fonction qui renvoie `TRUE` si l'année `y` est bissextile, et `FALSE` sinon.\n",
    "- Testez votre fonction sur les années suivantes : 1900, 1996, 1999, 2000 et 2004."
   ]
  },
  {
   "cell_type": "code",
   "execution_count": 1,
   "metadata": {},
   "outputs": [],
   "source": [
    "####################################\n",
    "## Écrire votre réponse entre ici...\n",
    "\n",
    "## ... et la\n",
    "####################################"
   ]
  },
  {
   "cell_type": "markdown",
   "metadata": {},
   "source": [
    "### II.4 Boucle et vectorisation\n",
    "Posons le problème suivant: *je veux afficher pour toutes les années entre 1850 et 2100 si elle sont bissextiles ou non*.\n",
    "\n",
    "Autrement dit, pour 250 années nous voulons savoir si elle sont bissextiles. Il est impraticable d'écrire 250 lignes de code appelant chacune la fonction qui teste si une année est bissextile ou non, i.e. un code de la forme:\n",
    "\n",
    "```\n",
    "est_bissextile(1850)\n",
    "est_bissextile(1851)\n",
    "est_bissextile(1852)\n",
    "## ... plein de lignes\n",
    "est_bissextile(2099)\n",
    "est_bissextile(2100)\n",
    "```\n",
    "\n",
    "Pour résoudre ce problème, nous allons proposer deux approches:\n",
    "- Une boucle `for`\n",
    "- La vectorisation\n",
    "\n",
    "#### II.4.1 Les vecteurs\n",
    "\n",
    "La première chose est de pouvoir stocker les années entre 1850 et 2100 dans une unique variable. Nous allons donc devoir manipuler des vecteurs. Voici quelques manières de créer des vecteurs:\n",
    "\n",
    "***Questions*** Tester chacun des codes suivants pour en comprendre le fonctionnement:\n",
    "\n",
    "- `1:10`\n",
    "- `numeric(10)`\n",
    "- `base::c(1,4,8,-3,1.5)`\n",
    "- `base::seq( 3 , 12 )`\n",
    "- `base::seq( 1 , 20 , 3 )`\n",
    "- `base::seq( 10 , 5 , -1 )`\n",
    "- `base::seq( 0 , 1 , length = 10 )`\n",
    "- Choisissez un des vecteurs précédents, stockez le dans une variable `y`, et affichez `y[1]`, `y[2]`, `y[0]`, `y[-1]`. Conclusion?"
   ]
  },
  {
   "cell_type": "code",
   "execution_count": 15,
   "metadata": {},
   "outputs": [],
   "source": [
    "####################################\n",
    "## Écrire votre réponse entre ici...\n",
    "\n",
    "## ... et la\n",
    "####################################"
   ]
  },
  {
   "cell_type": "markdown",
   "metadata": {},
   "source": [
    "***Question*** Construisez un vecteur `years` qui contient les années entre 1850 et 2100"
   ]
  },
  {
   "cell_type": "code",
   "execution_count": 16,
   "metadata": {},
   "outputs": [],
   "source": [
    "####################################\n",
    "## Écrire votre réponse entre ici...\n",
    "\n",
    "\n",
    "## ... et la\n",
    "####################################"
   ]
  },
  {
   "cell_type": "markdown",
   "metadata": {},
   "source": [
    "#### II.4.2 Les boucles `for`\n",
    "\n",
    "Examinez et executez le code suivant:\n",
    "\n",
    "```\n",
    "for( i in 1:5 )\n",
    "{\n",
    "    print(i)\n",
    "}\n",
    "```\n",
    "\n",
    "***Question***\n",
    "- Que fait ce code, comment fonctionne t'il ?\n",
    "- En vous inspirant de ce code, et à l'aide du vecteur `years` de la section precedente, affichez si une année est bissextiles ou non entre 1850 et 2100"
   ]
  },
  {
   "cell_type": "code",
   "execution_count": 17,
   "metadata": {},
   "outputs": [],
   "source": [
    "####################################\n",
    "## Écrire votre réponse entre ici...\n",
    "\n",
    "## ... et la\n",
    "####################################"
   ]
  },
  {
   "cell_type": "markdown",
   "metadata": {},
   "source": [
    "#### II.4.3 Embranchement conditionnel\n",
    "***Objectif*** N'afficher que les années bissextiles entre 1850 et 2100.\n",
    "\n",
    "Pour cela, nous allons utiliser un `if` / `else`, donc la structure est la suivante:\n",
    "\n",
    "```\n",
    "if( cond )\n",
    "{\n",
    "    ## Plein de trucs si cond == TRUE\n",
    "}\n",
    "else\n",
    "{\n",
    "    ## Plein d'autres trucs si cond == FALSE\n",
    "}\n",
    "```\n",
    "\n",
    "***Question*** Utiliser une boucle `for` et un `if` / `else` pour n'afficher que les années bissextiles entre 1850 et 2100."
   ]
  },
  {
   "cell_type": "code",
   "execution_count": 18,
   "metadata": {},
   "outputs": [],
   "source": [
    "####################################\n",
    "## Écrire votre réponse entre ici...\n",
    "\n",
    "## ... et la\n",
    "####################################"
   ]
  },
  {
   "cell_type": "markdown",
   "metadata": {},
   "source": [
    "#### II.4.4 Vectorisation\n",
    "Même si les boucles for ont le mérite de la simplicité, elles sont atrocement lente en R, et il vaut mieux éviter de les utiliser. C'est ici qu'intervient la *vectorisation*: appliquer directement une fonction ou un operateur non plus à un nombre, mais à un *vecteur*.\n",
    "\n",
    "***Question*** Pourquoi cette approche est meilleure qu'une boucle for ?\n",
    "\n",
    "***Question*** Essayez d'appliquer directement votre fonction pour tester si une année est bissextile au vecteur `years`. Que se passe t'il ?"
   ]
  },
  {
   "cell_type": "code",
   "execution_count": 19,
   "metadata": {},
   "outputs": [],
   "source": [
    "####################################\n",
    "## Écrire votre réponse entre ici...\n",
    "\n",
    "## ... et la\n",
    "####################################"
   ]
  },
  {
   "cell_type": "markdown",
   "metadata": {},
   "source": [
    "***Question***\n",
    "\n",
    "Executez le code suivant:\n",
    "\n",
    "```\n",
    "base::c(TRUE,TRUE,FALSE,FALSE) & base::c(TRUE,FALSE,TRUE,FALSE)\n",
    "base::c(TRUE,TRUE,FALSE,FALSE) | base::c(TRUE,FALSE,TRUE,FALSE)\n",
    "```\n",
    "\n",
    "Et le code suivant:\n",
    "\n",
    "```\n",
    "base::c(TRUE,TRUE,FALSE,FALSE) && base::c(TRUE,FALSE,TRUE,FALSE)\n",
    "base::c(TRUE,TRUE,FALSE,FALSE) || base::c(TRUE,FALSE,TRUE,FALSE)\n",
    "```\n",
    "\n",
    "Quel est le résultat ? Quelles sont les différences ? Explicitez la différence entre le `&` et le `&&`, regardez la documentation avec `help(\"&\")`."
   ]
  },
  {
   "cell_type": "code",
   "execution_count": 20,
   "metadata": {},
   "outputs": [],
   "source": [
    "####################################\n",
    "## Écrire votre réponse entre ici...\n",
    "\n",
    "## ... et la\n",
    "####################################"
   ]
  },
  {
   "cell_type": "markdown",
   "metadata": {},
   "source": [
    "***Question*** Adaptez votre fonction de calcul d'année bissextile pour qu'elle opère sur des vecteurs (sans utiliser de boucle for)"
   ]
  },
  {
   "cell_type": "code",
   "execution_count": 21,
   "metadata": {},
   "outputs": [],
   "source": [
    "####################################\n",
    "## Écrire votre réponse entre ici...\n",
    "\n",
    "## ... et la\n",
    "####################################"
   ]
  },
  {
   "cell_type": "markdown",
   "metadata": {},
   "source": [
    "***Question***\n",
    "Executez le code suivant:\n",
    "\n",
    "```\n",
    "x = base::seq( -1 , 1 , 10 )\n",
    "print(x[x < 0])\n",
    "```\n",
    "\n",
    "- Qu'avez vous affiché ?\n",
    "- Explicitez exactement ce qu'il se passe quand vous selectionnez les éléments de `x` avec l'expression `x < 0`\n",
    "- Adaptez ce code pour afficher les années bissextiles entre 1850 et 2100"
   ]
  },
  {
   "cell_type": "code",
   "execution_count": 2,
   "metadata": {},
   "outputs": [],
   "source": [
    "####################################\n",
    "## Écrire votre réponse entre ici...\n",
    "\n",
    "## ... et la\n",
    "####################################"
   ]
  },
  {
   "cell_type": "markdown",
   "metadata": {},
   "source": [
    "## III. Premier pas dans l'aléa: simulation d'un lancer de dé\n",
    "### III.1 Fonction `base::sample`\n",
    "Taper `help(sample)` dans une console R. À quoi correspond chacun de ces arguments ?\n",
    "- `x`\n",
    "- `size`\n",
    "- `replace`\n",
    "- `prob`\n",
    "\n",
    "Qu'est ce qu'un argument *obligatoire*? *Optionnel* ?"
   ]
  },
  {
   "cell_type": "code",
   "execution_count": 23,
   "metadata": {},
   "outputs": [],
   "source": [
    "####################################\n",
    "## Écrire votre réponse entre ici...\n",
    "\n",
    "## ... et la\n",
    "####################################"
   ]
  },
  {
   "cell_type": "markdown",
   "metadata": {},
   "source": [
    "***Question*** Avec la fonction `base::sample`:\n",
    "- Tirer avec remise 7 entiers entre 1 et 10\n",
    "- Tirer sans remise 7 entiers entre 1 et 10"
   ]
  },
  {
   "cell_type": "code",
   "execution_count": 24,
   "metadata": {},
   "outputs": [],
   "source": [
    "####################################\n",
    "## Écrire votre réponse entre ici...\n",
    "\n",
    "## ... et la\n",
    "####################################"
   ]
  },
  {
   "cell_type": "markdown",
   "metadata": {},
   "source": [
    "### III.2 Lançons les dés\n",
    "Avec la fonction `base::sample`, créer une fonction `jet_de` qui prend en entrée un entier `n` (le nombre de fois qu'on lancera un dé), et qui renvoie un vecteur de taille `n` contenant le numéro de la face de dé tiré, pour un dé à 6 face."
   ]
  },
  {
   "cell_type": "code",
   "execution_count": 25,
   "metadata": {},
   "outputs": [],
   "source": [
    "####################################\n",
    "## Écrire votre réponse entre ici...\n",
    "\n",
    "## ... et la\n",
    "####################################"
   ]
  },
  {
   "cell_type": "markdown",
   "metadata": {},
   "source": [
    "***Question*** Effectuez 10000 lancé de dés, et comptez le nombre de 1, de 2, ..., de 6. Afficher le résultat en *nombre d'occurences*, et en *fréquences*.\n",
    "Indices:\n",
    "- Que valent les sommes `TRUE + TRUE`, `TRUE + FALSE`, `FALSE + FALSE` ?\n",
    "- La fonction `base::sum` permet de faire la somme sur les éléments d'un vecteur."
   ]
  },
  {
   "cell_type": "code",
   "execution_count": 1,
   "metadata": {},
   "outputs": [],
   "source": [
    "####################################\n",
    "## Écrire votre réponse entre ici...\n",
    "\n",
    "## ... et la\n",
    "####################################"
   ]
  },
  {
   "cell_type": "markdown",
   "metadata": {},
   "source": [
    "### III.3 Changeons de type de dés\n",
    "***Question*** En vous basant sur la fonction `jet_de`, construisez une fonction `jet_custom_de` qui prend en argument obligatoire le nombre de jet de dés `n`, et le nombre de face du dé `n_face`."
   ]
  },
  {
   "cell_type": "code",
   "execution_count": 28,
   "metadata": {},
   "outputs": [],
   "source": [
    "####################################\n",
    "## Écrire votre réponse entre ici...\n",
    "\n",
    "## ... et la\n",
    "####################################"
   ]
  },
  {
   "cell_type": "markdown",
   "metadata": {},
   "source": [
    "***Question*** À l'aide d'une boucle, pour `n_face = 2,3,6,10,20`, effectuez 10000 lancé de dés, et affichez la fréquence de chaque face. "
   ]
  },
  {
   "cell_type": "code",
   "execution_count": 3,
   "metadata": {},
   "outputs": [],
   "source": [
    "####################################\n",
    "## Écrire votre réponse entre ici...\n",
    "\n",
    "## ... et la\n",
    "####################################"
   ]
  }
 ],
 "metadata": {
  "kernelspec": {
   "display_name": "R",
   "language": "R",
   "name": "ir"
  },
  "language_info": {
   "codemirror_mode": "r",
   "file_extension": ".r",
   "mimetype": "text/x-r-source",
   "name": "R",
   "pygments_lexer": "r",
   "version": "3.5.2"
  }
 },
 "nbformat": 4,
 "nbformat_minor": 4
}
