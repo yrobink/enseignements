{
 "cells": [
  {
   "cell_type": "markdown",
   "metadata": {},
   "source": [
    "# TP IENM1 : Normales, variabilité et extrêmes\n",
    "\n",
    "## Plan du TP\n",
    "\n",
    "- I. Autour de python\n",
    "- II. Données\n",
    "- III. Normales\n",
    "- IV. Densités climatiques\n",
    "- V. Extrêmes\n",
    "- Conclusion\n",
    "- VI. Quelques bonus"
   ]
  },
  {
   "cell_type": "markdown",
   "metadata": {},
   "source": [
    "## I. Autour de python\n",
    "- Ce TP se déroule en python,\n",
    "- La première partie consistera à vérifier que les packages necessaires sont bien installés\n",
    "- Dans les cellules de code, le symbole `#` permet de faire des commentaires qui seront ignorés par python\n",
    "- Toutes les fonctions \"difficiles\" sont déja implémenté, et je propose des exemples qui répondent partiellement aux questions, inspirez vous en!\n",
    "- Vous pouvez acceder à la documentation d'une fonction en tapant dans un terminal `help(ma_fonction)`, comme dans la cellule suivante"
   ]
  },
  {
   "cell_type": "code",
   "execution_count": null,
   "metadata": {},
   "outputs": [],
   "source": [
    "help(len)"
   ]
  },
  {
   "cell_type": "markdown",
   "metadata": {},
   "source": [
    "### I.1 Packages\n",
    "La cellule suivante contient les librairies à charger, ne pas la modifier.\n",
    "\n",
    "***Si l'execution de cette cellule ne fonctionne pas:***\n",
    "- Installer les packages manquant en tapant dans un terminal: `pip3 install --user package`,\n",
    "- Redemarrer le noyau dans le menu ci dessus."
   ]
  },
  {
   "cell_type": "code",
   "execution_count": null,
   "metadata": {},
   "outputs": [],
   "source": [
    "## Packages système\n",
    "##=================\n",
    "import sys,os              ## Permet d'acceder à des fonctions du système\n",
    "import pickle as pk        ## Sauvegarde et chargement des objets python\n",
    "\n",
    "## Packages scientifique\n",
    "##======================\n",
    "import numpy as np         ## Donne les 'np.array': vecteurs, matrices ou matrices multi-dimensionelle (tenseur)\n",
    "import scipy.stats as sc   ## Fonctions statistiques\n",
    "import scipy.linalg as scl ## Fonctions avancées en algèbre linéaire\n",
    "import xarray as xr        ## Dataframe multi-dimensionel, permet d'indexer facilement les données\n",
    "\n",
    "\n",
    "## Packages pour les figures\n",
    "##==========================\n",
    "%matplotlib inline\n",
    "import matplotlib as mpl           ## Configuration de matplotlib\n",
    "import matplotlib.pyplot as plt    ## Contient les fonctions pour les figures\n",
    "\n",
    "## Malheureusement cartopy n'est pas installable à l'ENM, vous pourrez essayer ailleurs\n",
    "#import cartopy.crs as ccrs         ## Contient les fonctions pour afficher des cartes\n",
    "#import cartopy.feature as cf       ## Contient les fonctions pour ajouter des éléments sur les cartes (continent...)"
   ]
  },
  {
   "cell_type": "markdown",
   "metadata": {},
   "source": [
    "### II.2 Quelques fonctions utiles\n",
    "Dans cette section je donne quelques fonctions à ne pas modifier qui seront utilisées plus loin"
   ]
  },
  {
   "cell_type": "code",
   "execution_count": null,
   "metadata": {},
   "outputs": [],
   "source": [
    "def _add_fig_labels( dX , axes ):\n",
    "\t\"\"\"\n",
    "\tFonctions générique pour les labels des figures\n",
    "\t\"\"\"\n",
    "\tday_per_month = np.array( [0,31,28,31,30,31,30,31,31,30,31,30] )\n",
    "\txticks = np.cumsum(day_per_month)\n",
    "\txticks_labels = [\"J\",\"F\",\"M\",\"A\",\"M\",\"J\",\"J\",\"A\",\"S\",\"O\",\"N\",\"D\"]\n",
    "\txticks_labels = [\"Jan\",\"Feb\",\"Mar\",\"Apr\",\"May\",\"Jun\",\"Jul\",\"Aug\",\"Sep\",\"Oct\",\"Nov\",\"Dec\"]\n",
    "\t\n",
    "\tlylim = np.array( [ ax.get_ylim() for ax in axes] )\n",
    "\tylim = (lylim[:,0].min(),lylim[:,1].max())\n",
    "\tfor i,c in enumerate(dX.location):\n",
    "\t\taxes[i].set_title( \"{}\".format(str(c.values)) )\n",
    "\t\taxes[i].set_ylabel( \"Tm\")\n",
    "\t\taxes[i].set_xticks(xticks)\n",
    "\t\taxes[i].set_xticklabels(xticks_labels)\n",
    "\t\taxes[i].set_ylim(ylim)\n",
    "\treturn axes"
   ]
  },
  {
   "cell_type": "code",
   "execution_count": null,
   "metadata": {},
   "outputs": [],
   "source": [
    "def _fig_normale( normale , **kwargs ):\n",
    "\tfig = plt.figure( figsize = (12,8) )\n",
    "\taxes = [fig.add_subplot(2,2,i+1) for i in range(4)]\n",
    "\t\n",
    "\t## Pass normale into list\n",
    "\tif type(normale) is not list:\n",
    "\t\tnormale = [normale]\n",
    "\tn_normale = len(normale)\n",
    "\t\n",
    "\t## Define labels\n",
    "\tif kwargs.get(\"label_normale\") is not None:\n",
    "\t\tlabel_normale = kwargs[\"label_normale\"]\n",
    "\t\tif type(label_normale) is not list:\n",
    "\t\t\tlabel_normale = [label_normale]\n",
    "\telse:\n",
    "\t\tlabel_normale = [ \"Normale {}\".format(i) for i in range(len(normale)) ]\n",
    "\t\n",
    "\t## Define colors\n",
    "\tif kwargs.get(\"color_normale\") is not None:\n",
    "\t\tcolor_normale = kwargs[\"color_normale\"]\n",
    "\t\tif type(color_normale) is not list:\n",
    "\t\t\tcolor_normale = [color_normale]\n",
    "\telse:\n",
    "\t\tcolor_normale = [ c for c in plt.cm.hsv( np.linspace( 0.1 , 0.9 , n_normale ) ) ]\n",
    "\t\n",
    "\tif kwargs.get(\"loc_legend\") is not None:\n",
    "\t\tloc_legend = kwargs.get(\"loc_legend\")\n",
    "\telse:\n",
    "\t\tloc_legend = \"lower center\"\n",
    "\t\n",
    "\tfor j,c in enumerate(normale[0].location):\n",
    "\t\tfor i in range(n_normale):\n",
    "\t\t\taxes[j].plot( normale[i].loc[:,c] , color = color_normale[i] , label = label_normale[i] )\n",
    "\t\taxes[j].legend( loc = loc_legend )\n",
    "\t\n",
    "\t\n",
    "\treturn fig,axes,normale"
   ]
  },
  {
   "cell_type": "code",
   "execution_count": null,
   "metadata": {},
   "outputs": [],
   "source": [
    "def _moving_average( X , axis , size_box , kernel = \"uniform\" , **kwargs ):\n",
    "\t\"\"\"\n",
    "\tImplémentation du lissage par noyau, ne pas modifier\n",
    "\t\"\"\"\n",
    "\t## Kernel\n",
    "\tif kernel == \"gauss\":\n",
    "\t\tscale = kwargs.get(\"scale\") if kwargs.get(\"scale\") is not None else 1\n",
    "\t\tx = np.linspace( -3 , 3 , size_box )\n",
    "\t\tk = np.exp(-x**2/scale**2)\n",
    "\t\tk /= np.sum(k)\n",
    "\telse: ## Uniform\n",
    "\t\tk = np.ones(size_box) / size_box\n",
    "\t\n",
    "\t## 1D function\n",
    "\tdef _moving_average( X ):\n",
    "\t\tXc = np.hstack( (X,X,X) )\n",
    "\t\tXcs = np.convolve( Xc , k , mode = \"same\" )\n",
    "\t\treturn Xcs[X.size:(2*X.size)]\n",
    "\t\n",
    "\treturn np.apply_along_axis( _moving_average , axis = axis , arr = X )"
   ]
  },
  {
   "cell_type": "code",
   "execution_count": null,
   "metadata": {},
   "outputs": [],
   "source": [
    "def _fig_histogram( ldX , labels , dT , density , alpha = 0.5 ):\n",
    "\t## ldX into list\n",
    "\tif type(ldX) is not list: ldX = [ldX]\n",
    "\t\n",
    "\t## Labels\n",
    "\tif labels is None: labels = [\"Dataset {}\".format(i) for i in range(len(ldX)) ]\n",
    "\telif type(labels) is not list : labels = [labels]\n",
    "\t\n",
    "\t## Find Tm interval\n",
    "\tTmin = min( [float(dX.min()) for dX in ldX ] )\n",
    "\tTmax = max( [float(dX.max()) for dX in ldX ] )\n",
    "\tTm = np.arange( round(Tmin) - 1 , round(Tmax) + 1 , dT , dtype = np.float )\n",
    "\t\n",
    "\t\n",
    "\t## Figure\n",
    "\tfig    = plt.figure( figsize = (12,8) )\n",
    "\taxes   = [ fig.add_subplot(2,2,i+1) for i in range(4) ]\n",
    "\tcolors = [ c for c in plt.cm.hsv(np.linspace(0.1,0.9,len(ldX))) ]\n",
    "\t\n",
    "\tymax   = 0\n",
    "\tfor i,l in enumerate(ldX[0].location):\n",
    "\t\tfor j,dX in enumerate(ldX):\n",
    "\t\t\taxes[i].hist( dX.loc[:,l] , bins = Tm , color = colors[j] , alpha = alpha , label = labels[j] , density = density )\n",
    "\t\taxes[i].legend()\n",
    "\t\taxes[i].set_xlabel(\"Tm\")\n",
    "\t\taxes[i].set_ylabel(\"Nombres d'occurence\")\n",
    "\t\taxes[i].set_title(\"{}\".format(str(l.values)))\n",
    "\t\tymax = max( ymax , axes[i].get_ylim()[1] )\n",
    "\t\n",
    "\tfor ax in axes:\n",
    "\t\tax.set_ylim( (0,ymax) )\n",
    "\t\n",
    "\treturn fig,axes,Tm,ldX,colors"
   ]
  },
  {
   "cell_type": "markdown",
   "metadata": {},
   "source": [
    "## II. Données\n",
    "### II.1 Chargement et format"
   ]
  },
  {
   "cell_type": "code",
   "execution_count": null,
   "metadata": {},
   "outputs": [],
   "source": [
    "dX = pk.load( open( \"data/EOBS_tg.pk\" , \"rb\" ) )"
   ]
  },
  {
   "cell_type": "markdown",
   "metadata": {},
   "source": [
    "\n",
    "Dans ce TP quatre séries temporelle du 01/01/1950 au 31/07/2019 extraites du jeu de donnée [E-OBS](http://surfobs.climate.copernicus.eu/dataaccess/access_eobs.php) seront utilisées:\n",
    "- Température moyenne à Brest\n",
    "- Température moyenne à Marseille\n",
    "- Température moyenne à Briançon\n",
    "- Température moyenne sur la France\n",
    "\n",
    "Elles sont stockées dans la variable `dX`, qui est une variable du type *xarray.DataArray*. C'est une matrice de taille 25550x4, où chaque colonne est une des séries précédentes. L'axe du temps a été modifié de la manière suivante:\n",
    "\n",
    "- Les 29 Février ont été supprimé (No Leap en Anglais), pour n'avoir que des années de 365 jours,\n",
    "- Les séries ont été complétés du 01/08/2019 jusqu'au 31/12/2019 par des NaN (Not a Number), pour que la taille de la matrice soit un multiple de 365,\n",
    "\n",
    "Les valeurs de la séries sont accessibles de la manière suivante:\n",
    "- Soit en tapant `dX[i,j]` pour accéder à la i-ème date de la j-ième série,\n",
    "- Soit en tapant par exemple `dX.loc[:,\"France\"]` pour acceder à toute la série de la France.\n",
    "\n",
    "Un description sommaire de la variable `dX` peut être affiché avec un `print` comme dans l'exemple suivant:\n"
   ]
  },
  {
   "cell_type": "code",
   "execution_count": null,
   "metadata": {
    "scrolled": true
   },
   "outputs": [],
   "source": [
    "print(dX)"
   ]
  },
  {
   "cell_type": "markdown",
   "metadata": {},
   "source": [
    "### II.2 Sur une carte"
   ]
  },
  {
   "cell_type": "markdown",
   "metadata": {},
   "source": [
    "Le code suivant permet d'afficher sur une carte centrée sur la France les coordonnées des 3 villes du jeu de données. La zone colorée représente ce qui est appelée \"France\" dans la série temporelle. La moyenne est faites sur cette zone, sachant que les mers/océans ont été ignoré."
   ]
  },
  {
   "cell_type": "code",
   "execution_count": null,
   "metadata": {},
   "outputs": [],
   "source": [
    "## Ne marche pas à l'ENM vu que cartopy ne peut pas être installé, dommage\n",
    "if False:\n",
    "\tlat = np.arange( 42 , 51.1 , 0.1 ) ## Latitudes, par 0.1deg\n",
    "\tlon = np.arange( -5 ,  8.1 , 0.1 ) ## Longitudes, par 0.1deg\n",
    "\tcentral_lat = np.median(lat)       ## Pour centrer la figure sur cette latitude\n",
    "\tcentral_lon = np.median(lon)       ## Pour centrer la figure sur cette longitude\n",
    "\tlats,lons = np.meshgrid(lat,lon)   ## Transforme les vecteurs lat/lon en deux grilles\n",
    "\tdata = np.outer(lat,lon)           ## Fausse donnée pour l'affichage\n",
    "\t\n",
    "\t## Cette zone récupère les limites des pays/continents/océans\n",
    "\tf_country = cf.NaturalEarthFeature( \"cultural\" , \"admin_0_boundary_lines_land\" , \"50m\" ) \n",
    "\tf_land    = cf.NaturalEarthFeature( \"physical\" , \"land\"  , \"50m\" )\n",
    "\tf_ocean   = cf.NaturalEarthFeature( \"physical\" , \"ocean\" , \"50m\" )\n",
    "\tcmap      = plt.cm.inferno ## Couleur de la zone \"France\"\n",
    "\t\n",
    "\tcoord_cities = np.array( [ [-4.5,48.4], [5.3,43.5], [6.5,45] ] ) ## Coordonnées des villes\n",
    "\tname_cities  = [\"Brest\",\"Marseille\",\"Briancon\"]                  ## Noms des villes\n",
    "\t\n",
    "\t## Création d'une figure vide\n",
    "\tfig = plt.figure( figsize = (7,7) )\n",
    "\t\n",
    "\t## Ajout d'un \"axe\", i.e. des coordonnées pour faire le plot, le mot clé \"projection\"\n",
    "\t## permet de reprojeter un repère orthographique sur une figure 2D\n",
    "\tax = fig.add_subplot( 1 , 1 , 1 , projection = ccrs.Orthographic( central_lon , central_lat ) ) \n",
    "\t\n",
    "\t## Affichage de la France, les coordonnées \"lon/lat\" sont dans la projection qu'on appelle \"PlateCarree\" (défaut),\n",
    "\t## Le mot clé transform permet à python de les ramener au repère de la figure\n",
    "\tax.pcolormesh( lons , lats , data.T , transform = ccrs.PlateCarree() , cmap = cmap , alpha = 0.4 , zorder = 2 )\n",
    "\t\n",
    "\t## Ajout des 3 points\n",
    "\tax.scatter( coord_cities[:,0] , coord_cities[:,1] , transform = ccrs.PlateCarree() , color = \"red\" , s = 100 )\n",
    "\t\n",
    "\t## Boucle for pour les labels\n",
    "\tfor i in range(3):\n",
    "\t\tax.text( coord_cities[i,0] + 0.1 , coord_cities[i,1] + 0.1 , name_cities[i] , transform = ccrs.PlateCarree() , fontsize = 15 )\n",
    "\t\n",
    "\t## Et finalement on ajoute les pays/continents/océans\n",
    "\tax.add_feature( f_country , zorder = 1 , edgecolor = \"black\" , facecolor = \"none\")\n",
    "\tax.add_feature( f_land    , zorder = 0 , edgecolor = \"black\" , facecolor = \"wheat\" )\n",
    "\tax.add_feature( f_ocean   , zorder = 0 , edgecolor = \"black\" , facecolor = \"cornflowerblue\" )\n",
    "\t\n",
    "\tax.gridlines()\n",
    "\t#ax.set_global() ## Permet de \"dé-zoomer\" pour voir la Terre entière, vous pouvez essayer\n",
    "\tplt.show() ## On affiche la figure"
   ]
  },
  {
   "cell_type": "markdown",
   "metadata": {},
   "source": [
    "### II.3 Affichage des séries\n",
    "La cellule suivante contient une fonction qui permet d'afficher les séries pour une année en particulier."
   ]
  },
  {
   "cell_type": "code",
   "execution_count": null,
   "metadata": {},
   "outputs": [],
   "source": [
    "def fig_time_series( dX , years ):\n",
    "\t\"\"\"\n",
    "\tCette fonction affiche les 4 séries temporelle de dX aux années de la list years\n",
    "\t\n",
    "\tArguments\n",
    "\t---------\n",
    "\tdX : xarray.DataArray\n",
    "\t\tLa variable dX\n",
    "\tyears : entier ou liste d'entier\n",
    "\t\tLes annnées à afficher\n",
    "\t\n",
    "\tReturn\n",
    "\t------\n",
    "\tfig  : Une figure matplotlib\n",
    "\taxes : Une liste des axes où ont été ploté les données\n",
    "\t\n",
    "\tExemples\n",
    "\t--------\n",
    "\tfig,axes = fig_time_series( dX , 1963 )\n",
    "\tplt.show()\n",
    "\tfig,axes = fig_time_series( dX , [1963,1988] )\n",
    "\tplt.show()\n",
    "\t\"\"\"\n",
    "\tif type(years) is not list:\n",
    "\t\tyears = [years]\n",
    "\tfig = plt.figure( figsize = (12,8) ) ## Figure vide\n",
    "\taxes = [fig.add_subplot(2,2,i+1) for i in range(4)] ## 4 sous figures\n",
    "\t\n",
    "\tcolors = [ c for c in plt.cm.hsv(np.linspace(0.1,0.9,len(years))) ] ## Une liste de couleurs\n",
    "\tkwargs = { \"linestyle\" : \"\" , \"marker\" : \".\" , \"alpha\" : 0.8} ## Arguments supplémentaires fixes\n",
    "\t\n",
    "\tfor j,c in enumerate(dX.location): ## On boucle sur les time series\n",
    "\t\tfor i,year in enumerate(years): ## On boucle sur les années\n",
    "\t\t\tdXy = dX.sel({\"time\":str(year)}).loc[:,c] ## On extrait l'année\n",
    "\t\t\taxes[j].plot( dXy , label = str(year) , color = colors[i] , **kwargs ) ## On affiche\n",
    "\t\taxes[j].legend( loc = \"lower center\" ) ## La légende\n",
    "\t\n",
    "\taxes = _add_fig_labels( dX , axes ) ## Les labels des axes et titres\n",
    "\t\n",
    "\treturn fig,axes"
   ]
  },
  {
   "cell_type": "markdown",
   "metadata": {},
   "source": [
    "***Questions***\n",
    "1. Afficher les années 1965, 1968, 1985, 2003, 2019 à l'aide de la fonction ci dessous. Vous pouvez les mettre sur des figures séparés, ou sur la même figure, le but est que ce soit suffisement lisible pour que vous puissiez comparer les années\n",
    "2. Comparer les différents hivers et été, quels sont les situations qui semblent *normales* ? *extrèmes*?"
   ]
  },
  {
   "cell_type": "code",
   "execution_count": null,
   "metadata": {},
   "outputs": [],
   "source": [
    "#########################\n",
    "## Utiliser cette cellule\n",
    "\n",
    "##\n",
    "#########################"
   ]
  },
  {
   "cell_type": "markdown",
   "metadata": {},
   "source": [
    "## III. Normales\n",
    "### III.1 Contexte\n",
    "\n",
    "Le but de cette section est de répondre à la question suivante: ***qu'est ce qu'une température normale?***. De manière plus précise, on donnera un sens à des phrases du type:\n",
    "- Nous sommes 2 degrés au dessus des normales\n",
    "- Nous sommes localement au dessus des normales, mais en dessous de la normale par rapport à la France\n",
    "- Nous sommes en dessous des normales aujourd'hui, mais il y a 50 ans nous aurions été au dessus des normales\n",
    "\n",
    "Pour cela plusieurs méthodes pour calculer des normales vont être proposés. Les cellules ci dessous contiennent le code pour afficher les *normale* seules ou avec les séries temporelles les années choisies."
   ]
  },
  {
   "cell_type": "code",
   "execution_count": null,
   "metadata": {},
   "outputs": [],
   "source": [
    "def fig_normale( normale , **kwargs ):\n",
    "\t\n",
    "\t\"\"\"\n",
    "\tFonction qui permet d'afficher des normales\n",
    "\t\n",
    "\tArguments\n",
    "\t---------\n",
    "\tnormale : xarray.DataArray ou list de DataArray\n",
    "\t\tTableau (ou liste de tableau) qui contient les valeurs \"normales\" pour une année\n",
    "\t\n",
    "\tlabel_normale: str ou list(str) (optionnel)\n",
    "\t\tLes labels pour chaque normales\n",
    "\tcolor_normale: str ou list(str) (optionnel)\n",
    "\t\tLes couleurs pour chaque normales\n",
    "\t\n",
    "\tReturn\n",
    "\t------\n",
    "\tfig  : Une figure matplotlib\n",
    "\taxes : Une liste des axes où ont été ploté les données\n",
    "\t\n",
    "\tExemples\n",
    "\t--------\n",
    "\tfig,ax = fig_normale( [norm_0,norm_1] )\n",
    "\t\"\"\"\n",
    "\tfig,axes,normale = _fig_normale( normale , **kwargs )\n",
    "\taxes = _add_fig_labels( normale[0] , axes ) ## Les labels des axes et titres\n",
    "\treturn fig,axes"
   ]
  },
  {
   "cell_type": "code",
   "execution_count": null,
   "metadata": {},
   "outputs": [],
   "source": [
    "def fig_time_series_normale( dX , normale , years , **kwargs ):\n",
    "\t\"\"\"\n",
    "\tFonction qui permet d'afficher la série dX les année years et les normales\n",
    "\t\n",
    "\tArguments\n",
    "\t---------\n",
    "\tdX : xarray.DataArray\n",
    "\t\tLa variable dX\n",
    "\tnormale : xarray.DataArray ou list de DataArray\n",
    "\t\tTableau (ou liste de tableau) qui contient les valeurs \"normales\" pour une année\n",
    "\tyears : entier ou list d'entier\n",
    "\t\tLa ou les années à afficher\n",
    "\t\n",
    "\tlabel_normale: str ou list(str) (optionnel)\n",
    "\t\tLes labels pour chaque normales\n",
    "\tcolor_normale: str ou list(str) (optionnel)\n",
    "\t\tLes couleurs pour chaque normales\n",
    "\t\n",
    "\tReturn\n",
    "\t------\n",
    "\tfig  : Une figure matplotlib\n",
    "\taxes : Une liste des axes où ont été ploté les données\n",
    "\t\n",
    "\tExemples\n",
    "\t--------\n",
    "\tfig,ax = fig_normale_one_year( dX , [norm_0,norm_1] , 1973 , label_normale = [\"norm0\",\"norm1\"] , color_normale = [\"black\",\"grey\"] )\n",
    "\t\"\"\"\n",
    "\tfig,axes,normale = _fig_normale( normale , **kwargs )\n",
    "\t\n",
    "\tif type(years) is not list:\n",
    "\t\tyears = [years]\n",
    "\t\n",
    "\tfor j,c in enumerate(dX.location):\n",
    "\t\tfor year in years:\n",
    "\t\t\tdXy = dX.sel({\"time\":str(year)}).loc[:,c] ## On extrait l'année\n",
    "\t\t\taxes[j].plot( dXy , color = \"blue\" , linestyle = \"\" , marker = \".\" , alpha = 0.5  ) ## On affiche\n",
    "\t\taxes[j].legend( loc = \"lower center\" )\n",
    "\t\n",
    "\taxes = _add_fig_labels( dX , axes ) ## Les labels des axes et titres\n",
    "\t\n",
    "\treturn fig,axes"
   ]
  },
  {
   "cell_type": "markdown",
   "metadata": {},
   "source": [
    "### III.2 Première normale : moyenne de chaque jour\n",
    "Nous allons définir notre première normale de la manière suivante:\n",
    "- Restreindre le jeu de donnée à une période de 30 ans\n",
    "- La normale de chaque jour sera la moyenne sur les 30 ans de chaque jour, i.e. la normale du 1er janvier sera la moyenne des 30 1er janvier, la normale du 02/01 la moyenne des 30 2 janvier, etc.\n",
    "\n",
    "La fonction ci dessous `normale_mean_along_days` renvoie un tableau de normale par rapport au `dX` en entrée."
   ]
  },
  {
   "cell_type": "code",
   "execution_count": null,
   "metadata": {},
   "outputs": [],
   "source": [
    "def normale_mean_along_days(dX):\n",
    "\t\"\"\"\n",
    "\tCalcul de la normale quotidienne en moyennant chaque jour, pour chaque série temporelle\n",
    "\t\n",
    "\tExemple\n",
    "\t-------\n",
    "\tdX_51_80   = dX.sel( time = slice(\"1951\",\"1980\") ) ## Periode de 1951 à 1980\n",
    "\tnorm_51_80 = normale_mean_along_days(dX_51_80)     ## Calcul de la normale\n",
    "\tfig_time_series_normale( dX , norm_51_80 , 1970 )     ## Affichage de dX en 1970 en anomalie\n",
    "\tplt.show()\n",
    "\t\"\"\"\n",
    "\treturn dX.groupby(\"time.dayofyear\").mean( dim = \"time\" ).rename( dayofyear = \"time\" )"
   ]
  },
  {
   "cell_type": "markdown",
   "metadata": {},
   "source": [
    "***Questions***\n",
    "1. Calculer les normales sur les périodes 1951-1980 et 1981-2010 et les afficher.\n",
    "2. Quelles informations pouvez vous extraire de ces normales ?\n",
    "3. Quel est le problème de cette méthode ?"
   ]
  },
  {
   "cell_type": "code",
   "execution_count": null,
   "metadata": {},
   "outputs": [],
   "source": [
    "#########################\n",
    "## Utiliser cette cellule\n",
    "\n",
    "\n",
    "##\n",
    "#########################"
   ]
  },
  {
   "cell_type": "markdown",
   "metadata": {},
   "source": [
    "### III.3 Lissage des normales\n",
    "Le but de cette section est d'introduire une méthode de *lissage* des normales, afin d'avoir un signal plus régulier. La méthode choisi est celle d'un lissage *par noyau*. L'idée est la suivante, si on a une série temporelle $x_i\\in\\mathbb R$, on va fixer une taille de fenêtre (disons 3 ici), et chaque $x_i$ va être remplacé par la moyenne des 3 valeurs voisines (i.e. lui même et les deux voisins):\n",
    "\n",
    "$$ \\tilde x_i = \\frac{x_{i-1} + x_i + x_{i+1}}{3}$$\n",
    "\n",
    "Généralisons un peu, et supposons que la taille de la fenêtre soit un entier $N$, nous aurions alors:\n",
    "\n",
    "$$\\tilde x_i = \\frac{1}{N}\\sum_{j=i-N/2}^{i+N/2} x_j$$\n",
    "\n",
    "Dans ce cas, nous avons remplacé $x_i$ par la moyenne de ces $N$ voisins. Notons $K$ (pour *kernel*) le vecteur suivant de taille $N$:\n",
    "\n",
    "$$K = (1/N,1N,...,1/N)$$\n",
    "\n",
    "Nous avons alors:\n",
    "- K est un vecteur de somme égale à $1$\n",
    "- Les coefficients sont des *poids*, qui pondère la moyenne\n",
    "\n",
    "À partir de cette idée, les poids $1/N$ peuvent être modifiés. Nous pourrions par exemple dire que $x_i$ est le plus *représentatif* de $\\tilde x_i$, et que plus on \"s'éloigne\", plus le poids faiblit. Un noyau de ce type est le noyau *Gaussien*, donnée par la fonction $x\\mapsto \\exp(-x^2)$.\n",
    "\n",
    "Dans la cellule suivante la fonction `smoothing_normale` vous permet de lisser les normales calculées ci-dessus."
   ]
  },
  {
   "cell_type": "code",
   "execution_count": null,
   "metadata": {},
   "outputs": [],
   "source": [
    "def smoothing_normale( normale , size_box , kernel , **kwargs ):\n",
    "\t\"\"\"\n",
    "\tFonction qui permet de lisser une normale\n",
    "\t\n",
    "\tArguments\n",
    "\t---------\n",
    "\tnormale : xarray.DataArray ou list de DataArray\n",
    "\t\tTableau (ou liste de tableau) qui contient les valeurs \"normales\" pour une année\n",
    "\tsize_box : entier\n",
    "\t\tLa taille de la fenêtre de lissage\n",
    "\tkernel : str\n",
    "\t\tChoix du noyau : \"uniform\" ou \"gauss\"\n",
    "\t\n",
    "\t\n",
    "\tReturn\n",
    "\t------\n",
    "\tsmooth_normale : normale lissée\n",
    "\t\n",
    "\tExemples\n",
    "\t--------\n",
    "\t## Lisse avec un noyau Gaussien en utilisant une fenêtre de 30 jours, i.e.\n",
    "\t## 15 jours avant / après.\n",
    "\tnorm_51_80_smooth = smoothing_normale( norm_51_80 , 30 , \"gauss\" )\n",
    "\t\"\"\"\n",
    "\treturn normale.reduce( _moving_average , dim = \"time\" , size_box = size_box , kernel = kernel , **kwargs )"
   ]
  },
  {
   "cell_type": "markdown",
   "metadata": {},
   "source": [
    "#### Questions\n",
    "1. Lisser les normales 1951-1980 et 1981-2010 avec un noyau uniforme et une fenêtre de 30 jours, les afficher\n",
    "2. Faites de même avec un noyau Gaussien\n",
    "3. Afficher sur la même figure différentes normales lissées avec des fenêtres de taille différentes. Que remarquez vous ? \n",
    "4. Afficher sur la même figure une normale lissée 1951-1980 et une normale lissée 1981-2010. Que remarquez vous ?"
   ]
  },
  {
   "cell_type": "code",
   "execution_count": null,
   "metadata": {},
   "outputs": [],
   "source": [
    "#########################\n",
    "## Q1\n",
    "\n",
    "##\n",
    "#########################"
   ]
  },
  {
   "cell_type": "code",
   "execution_count": null,
   "metadata": {},
   "outputs": [],
   "source": [
    "#########################\n",
    "## Q2\n",
    "\n",
    "##\n",
    "#########################"
   ]
  },
  {
   "cell_type": "code",
   "execution_count": null,
   "metadata": {},
   "outputs": [],
   "source": [
    "#########################\n",
    "## Q3\n",
    "\n",
    "##\n",
    "#########################"
   ]
  },
  {
   "cell_type": "code",
   "execution_count": null,
   "metadata": {},
   "outputs": [],
   "source": [
    "#########################\n",
    "## Q3\n",
    "\n",
    "##\n",
    "#########################"
   ]
  },
  {
   "cell_type": "markdown",
   "metadata": {},
   "source": [
    "### III.4 Regression linéaire en Fourier\n",
    "Dans cette section nous allons voir une autre manière de construire des normales. L'idée est d'écrire que la série temporelle $x_i$ s'écrit chaque année:\n",
    "$$x_i = \\sum_{j=0}^H a_j \\cos(\\omega ij) + b_j \\sin(\\omega ij) + \\varepsilon$$\n",
    "Avec:\n",
    "$$\\omega = \\frac{2\\pi}{365}, \\varepsilon\\sim\\mathcal{N}(0,\\sigma)$$\n",
    "Autrement dit, on décompose le signal en une somme de $H$ cosinus et sinus, plus un terme aléatoire gaussien $\\varepsilon$. Les coefficients $a_j$ et $b_j$ seront calculés par une regression linéaire au sens des moindres carrées. La fonction `normale_fourier` de la cellule suivante calculera cette normale."
   ]
  },
  {
   "cell_type": "code",
   "execution_count": null,
   "metadata": {},
   "outputs": [],
   "source": [
    "def normale_fourier( dX , H = 4 ):##{{{\n",
    "\t\n",
    "\tyears  = np.unique( dX.time[\"time.year\"] )\n",
    "\tn_year = years.size\n",
    "\tn_day  = int(dX.time.size / n_year)\n",
    "\tdef _normale_fourier( X , axis , H ):\n",
    "\t\t## Design matrix\n",
    "\t\tomega = 2 * np.pi / n_day\n",
    "\t\t\n",
    "\t\tA = np.arange( 0,n_day,1).reshape(-1,1) @ np.arange(0,H,1).reshape(1,-1)\n",
    "\t\tA = np.hstack( (np.cos(omega*A),np.sin(omega*A)) )\n",
    "\t\tAc = np.vstack( [A for _ in range(n_year)] )\n",
    "\t\t\n",
    "\t\tx = np.apply_along_axis( lambda z : scl.lstsq( Ac , z )[0] , axis , X )\n",
    "\t\t\n",
    "\t\treturn Ac @ x\n",
    "\t\n",
    "\treturn dX.reduce( _normale_fourier , dim = \"time\" , H = H ).sel({\"time\":\"{}\".format(years[0])}).assign_coords( time = range(1,n_day+1) )"
   ]
  },
  {
   "cell_type": "markdown",
   "metadata": {},
   "source": [
    "***Questions***\n",
    "1. Calculer les normales en Fourier 1951-1980 et 1981-2010 avec $H=4$ et les afficher.\n",
    "2. Afficher pour chaque période sur le même graphe les normales par moyenne quotidiennes, lissées, en Fourier et les données en 2003"
   ]
  },
  {
   "cell_type": "code",
   "execution_count": null,
   "metadata": {},
   "outputs": [],
   "source": [
    "#########################\n",
    "## Q1\n",
    "\n",
    "##\n",
    "#########################"
   ]
  },
  {
   "cell_type": "code",
   "execution_count": null,
   "metadata": {},
   "outputs": [],
   "source": [
    "#########################\n",
    "## Q2\n",
    "\n",
    "##\n",
    "#########################"
   ]
  },
  {
   "cell_type": "markdown",
   "metadata": {},
   "source": [
    "## IV Densités climatiques\n",
    "### IV.1 Première approche : les histogrammes\n",
    "Le but de cette section est d'explorer une notion plus générale de normale, qui permet d'introduire le climat. *(Question: connaissez vous la différence météo/climat?)*. Nous allons d'abord découper notre jeu de données selon les saisons:"
   ]
  },
  {
   "cell_type": "code",
   "execution_count": null,
   "metadata": {},
   "outputs": [],
   "source": [
    "def cut_season(dX):\n",
    "\t\"\"\"\n",
    "\tFonction pour découper dX en 4 DataArray selon les saisons:\n",
    "\tdX_w  : Winter\n",
    "\tdX_s  : Summer\n",
    "\tdX_f  : Fall (or Autumn)\n",
    "\tdX_sp : Spring\n",
    "\t\"\"\"\n",
    "\t(_,dX_w),(_,dX_s),(_,dX_f),(_,dX_sp) = dX.sel(time = slice(\"1950\",\"2018\") ).groupby(\"time.season\")\n",
    "\treturn dX_w,dX_s,dX_f,dX_sp\n",
    "\n",
    "dX_w,dX_s,dX_f,dX_sp = cut_season(dX)"
   ]
  },
  {
   "cell_type": "markdown",
   "metadata": {},
   "source": [
    "Plutot que de s'interesser à une variable moyenne (comme par exemple la moyenne de l'hiver), nous allons regarder *combien de fois* se produit un évènement en particulier. Par exemple, combien de fois les températures ont été comprises entre $0$ et $0.5$ degré en hiver? Ceci peut se visualiser facilement à l'aide d'un histogramme:"
   ]
  },
  {
   "cell_type": "code",
   "execution_count": null,
   "metadata": {},
   "outputs": [],
   "source": [
    "def fig_histogram( ldX , labels = None , dT = 0.5 ):\n",
    "\t\"\"\"\n",
    "\tFonction pour afficher des histogrammes\n",
    "\t\n",
    "\tArguments\n",
    "\t---------\n",
    "\tldX : xarray.DataArray ou list(xarray.DataArray)\n",
    "\t\tLa ou les variables dont on veut afficher les histogrammes\n",
    "\tlabels : str ou list(str)\n",
    "\t\tLes noms à afficher de chaque variable\n",
    "\tdT : float\n",
    "\t\tTaille du bin (de l'intervalle entre deux températures) pour construire l'histogramme.\n",
    "\t\"\"\"\n",
    "\tfig,axes,_,_,_ = _fig_histogram( ldX , labels , dT , False )\n",
    "\treturn fig,axes"
   ]
  },
  {
   "cell_type": "code",
   "execution_count": null,
   "metadata": {},
   "outputs": [],
   "source": [
    "fig_histogram( dX_w , labels = \"winter\" )\n",
    "plt.show()"
   ]
  },
  {
   "cell_type": "markdown",
   "metadata": {},
   "source": [
    "Ces histogrammes montrent une structure très différentes en fonction de la zone considérées.\n",
    "\n",
    "***Questions***\n",
    "1. Décrire ces différentes répartition, pour l'hiver et l'été\n",
    "2. Pour l'hiver et l'été, afficher les histogrammes pour la période 1951-1980 et la période 1981-2010 (rappel, on extrait une période avec la commande `dX_sous_per = dX.sel( time = slice(\"begin\",\"end\") )`). Que remarquez vous ?"
   ]
  },
  {
   "cell_type": "code",
   "execution_count": null,
   "metadata": {},
   "outputs": [],
   "source": [
    "#########################\n",
    "## Q1\n",
    "\n",
    "##\n",
    "#########################"
   ]
  },
  {
   "cell_type": "code",
   "execution_count": null,
   "metadata": {},
   "outputs": [],
   "source": [
    "#########################\n",
    "## Q2\n",
    "\n",
    "##\n",
    "#########################"
   ]
  },
  {
   "cell_type": "markdown",
   "metadata": {},
   "source": [
    "### IV.2 Raffinement: les densités\n",
    "L'un des problèmes des histogrammes est qu'ils peuvent être très irréguliers, et ils sont dépendant du pas `dT`. Les densités permettent de contourner ces problèmes. L'idée est que les densités décrivent la probabilité de chaque évènement. Mathématiquement, si $f$ désigne la densité cela s'écrit:\n",
    "\n",
    "$$\\mathbb{P}(T_m < T) = \\int_{-\\infty} ^T f(t).dt$$\n",
    "\n",
    "Les histogrammes sont une approximation de cette densité $f$. Nous allons voir deux manières d'estimer $f$:\n",
    "\n",
    "#### Hypothèse de Normalité\n",
    "On suppose que $T_m\\sim\\mathcal{N}(\\mu,\\sigma)$, i.e. suit une loi normale (Gaussienne) de moyenne $\\mu$ et d'écart type $\\sigma$. Ces deux paramètres peuvent être estimée du jeu de donnée, et la densité s'écrit:\n",
    "$$f(t)=\\frac{1}{\\sigma\\sqrt{2\\pi}} \\exp\\left( - \\frac{1}{2} \\left(\\frac{t-\\mu}{\\sigma}\\right)^2 \\right)$$\n",
    "La principale limitation de cette approche est qu'il n'y a pas forcément de raison *à priori* que les données suivent une loi normale.\n",
    "\n",
    "#### Lissage par noyau\n",
    "La deuxième méthode est analogue au lissage par noyau vue pour les normales ci-dessus. On obtient ainsi une description non-paramétrique de la densité.\n",
    "\n",
    "La figure de la cellule suivante permet de représenter l'histogramme et les deux densités ci-dessus sur la même figure."
   ]
  },
  {
   "cell_type": "code",
   "execution_count": null,
   "metadata": {},
   "outputs": [],
   "source": [
    "def fig_density( ldX , labels , dT = 0.5 ):\n",
    "\t\"\"\"\n",
    "\tFonction pour afficher des histogrammes et des densités.\n",
    "\tLa densité Gaussienne est en ligne pointillée, le lissage par noyau en ligne continue\n",
    "\t\n",
    "\tArguments\n",
    "\t---------\n",
    "\tldX : xarray.DataArray ou list(xarray.DataArray)\n",
    "\t\tLa ou les variables dont on veut afficher les histogrammes et les densités\n",
    "\tlabels : str ou list(str)\n",
    "\t\tLes noms à afficher de chaque variable\n",
    "\tdT : float\n",
    "\t\tTaille du bin (de l'intervalle entre deux températures) pour construire l'histogramme.\n",
    "\t\"\"\"\n",
    "\tfig,axes,Tm,ldX,colors = _fig_histogram( ldX , labels , dT , True , alpha = 0.3 )\n",
    "\t\n",
    "\tfor i,dX in enumerate(ldX):\n",
    "\t\tfor j,l in enumerate(dX.location):\n",
    "\t\t\t## Densité par noyau Gaussien\n",
    "\t\t\tdens = sc.gaussian_kde( dX.loc[:,l]).__call__(Tm)\n",
    "\t\t\taxes[j].plot( Tm , dens , color = colors[i] )\n",
    "\t\t\t\n",
    "\t\t\t## Densité par hypothèse Gaussienne\n",
    "\t\t\tpdf = sc.norm.pdf( Tm , loc = dX.loc[:,l].mean() , scale = dX.loc[:,l].std() )\n",
    "\t\t\taxes[j].plot( Tm , pdf , color = colors[i] , linestyle = \"--\" )\n",
    "\t\n",
    "\treturn fig,axes"
   ]
  },
  {
   "cell_type": "markdown",
   "metadata": {},
   "source": [
    "***Questions***\n",
    "1. Afficher les densités pour l'hiver et l'été.\n",
    "2. Afficher pour l'hiver et l'été les densités pour la période 1951-1980 et 1981-2010.\n",
    "3. L'hypothèse de normalité est-elle justifiée?"
   ]
  },
  {
   "cell_type": "code",
   "execution_count": null,
   "metadata": {},
   "outputs": [],
   "source": [
    "#########################\n",
    "## Q1\n",
    "\n",
    "##\n",
    "#########################"
   ]
  },
  {
   "cell_type": "code",
   "execution_count": null,
   "metadata": {},
   "outputs": [],
   "source": [
    "#########################\n",
    "## Q2\n",
    "\n",
    "##\n",
    "#########################"
   ]
  },
  {
   "cell_type": "markdown",
   "metadata": {},
   "source": [
    "## V. Extrêmes\n",
    "Dans cette dernière partie, nous aborderons de manière succinte les extrêmes. Un évènement est dit *extrème* si la probabilité qu'il se réalise est \"très faible\". Par exemple, nous allons considérer les hivers (variable `dX_w`), et supposer qu'elle suit une loi normale. La classe suivante permet de simuler une loi Gaussienne:"
   ]
  },
  {
   "cell_type": "code",
   "execution_count": null,
   "metadata": {},
   "outputs": [],
   "source": [
    "class Gauss:\n",
    "\tdef __init__( self , dX , mode = \"max\" ):\n",
    "\t\tself.loc   = dX.mean(dim = \"time\" ).values.squeeze()\n",
    "\t\tself.scale = dX.std( dim = \"time\" ).values.squeeze()\n",
    "\t\tself.law  = sc.norm.cdf if mode == \"min\" else sc.norm.sf\n",
    "\t\n",
    "\tdef prob( self , event ):\n",
    "\t\tp = event.copy()\n",
    "\t\tfor i,l in enumerate(event.location):\n",
    "\t\t\tp.loc[:,l] = self.law( event.loc[:,l] , loc = self.loc[i] , scale = self.scale[i] )\n",
    "\t\treturn p"
   ]
  },
  {
   "cell_type": "markdown",
   "metadata": {},
   "source": [
    "Construisons les variables suivantes:\n",
    "- `g_51_80_w`: Une loi Gaussienne sur les hivers 1951-1980\n",
    "- `g_81_10_w`: Une loi Gaussienne sur les hivers 1981-2010\n",
    "- `dX_w_min` : les minimums de chaque hiver,"
   ]
  },
  {
   "cell_type": "code",
   "execution_count": null,
   "metadata": {},
   "outputs": [],
   "source": [
    "g_51_80_w = Gauss(dX_w.sel( time = slice(\"1951\",\"1980\" ) ) , mode = \"min\" ) ## Une loi Gaussienne sur les hivers 1951-1980\n",
    "g_81_10_w = Gauss(dX_w.sel( time = slice(\"1981\",\"2010\" ) ) , mode = \"min\" ) ## Une loi Gaussienne sur les hivers 1981-2010\n",
    "dX_w_min = dX_w.groupby(\"time.year\").reduce( np.min , dim = \"time\" )        ## Les minimums de chaque hiver"
   ]
  },
  {
   "cell_type": "markdown",
   "metadata": {},
   "source": [
    "Ce qui nous permet en appelant la fonction `prob` de la classe Gauss de calculer la probabilité pour chaque minimum que la température soit plus faible que le minimum donnée, i.e.:\n",
    "$$\\mathbb{P}(X < X_{min})$$\n",
    "Ces valeurs sont stockées dans les variables suivantes:"
   ]
  },
  {
   "cell_type": "code",
   "execution_count": null,
   "metadata": {},
   "outputs": [],
   "source": [
    "p_51_80_w = g_51_80_w.prob(dX_w_min)\n",
    "p_81_10_w = g_81_10_w.prob(dX_w_min)"
   ]
  },
  {
   "cell_type": "markdown",
   "metadata": {},
   "source": [
    "Le script suivant affiche une figure avec `p_51_80_w` (en bleu) et `p_81_10_w` (en rouge)."
   ]
  },
  {
   "cell_type": "code",
   "execution_count": null,
   "metadata": {},
   "outputs": [],
   "source": [
    "fig = plt.figure( figsize = (12,8) )\n",
    "for i,l in enumerate(p_51_80_w.location):\n",
    "\tax = fig.add_subplot( 2 , 2 , i + 1 )\n",
    "\tax.plot( p_51_80_w.year , p_51_80_w.loc[:,l] , color = \"blue\" )\n",
    "\tax.plot( p_81_10_w.year , p_81_10_w.loc[:,l] , color = \"red\"  )\n",
    "\tax.set_xlabel(\"Année\")\n",
    "\tax.set_ylabel(\"Proba\")\n",
    "\tax.set_title(str(l.values))\n",
    "fig.set_tight_layout(True)\n",
    "plt.show()"
   ]
  },
  {
   "cell_type": "markdown",
   "metadata": {},
   "source": [
    "Nous pouvons clairement voir que la probabilité de chaque minimum a diminué entre 1951 et 2010. Cette information peut se synthétiser au travers du *Probability Ratio*, notée PR, et égal à:\n",
    "$$\\mathrm{PR} = \\frac{p_{81-10}}{p_{51-81}}$$\n",
    "La figure suivante affiche $1/ \\mathrm{PR}$ (par souci de lisibilité):"
   ]
  },
  {
   "cell_type": "code",
   "execution_count": null,
   "metadata": {},
   "outputs": [],
   "source": [
    "PR_w = p_81_10_w / p_51_80_w\n",
    "fig = plt.figure( figsize = (12,8) )\n",
    "for i,l in enumerate(p_51_80_w.location):\n",
    "\tax = fig.add_subplot( 2 , 2 , i + 1 )\n",
    "\tax.plot( PR_w.year , 1. / PR_w.loc[:,l] , color = \"blue\" )\n",
    "\tax.set_xlabel(\"Année\")\n",
    "\tax.set_ylabel(\"1/$\\mathrm{PR}$\")\n",
    "\tax.set_title(str(l.values))\n",
    "fig.set_tight_layout(True)\n",
    "plt.show()"
   ]
  },
  {
   "cell_type": "markdown",
   "metadata": {},
   "source": [
    "En lisant ces graphes, on voit que les minimums déja passée sont devenus entre 1.25 et 3 fois moins probable sur la France, entre 1.2 et 2.4 fois moins probable sur Marseille, etc.\n",
    "\n",
    "***Question***\n",
    "En vous inspirant de ce protocole, éxaminez comment évoluent les maximums en été.\n",
    "Aide:\n",
    "- Il faudra utiliser la classe Gauss avec le mode \"max\"\n",
    "- On a affiché 1/PR en hiver car les minimum deviennent *moins* probable, mais en été on peut estimer que les maximums vont devenir *plus* probable, et il faut donc afficher le PR.\n"
   ]
  },
  {
   "cell_type": "code",
   "execution_count": null,
   "metadata": {},
   "outputs": [],
   "source": []
  },
  {
   "cell_type": "code",
   "execution_count": null,
   "metadata": {},
   "outputs": [],
   "source": []
  },
  {
   "cell_type": "code",
   "execution_count": null,
   "metadata": {},
   "outputs": [],
   "source": []
  },
  {
   "cell_type": "code",
   "execution_count": null,
   "metadata": {},
   "outputs": [],
   "source": []
  },
  {
   "cell_type": "markdown",
   "metadata": {},
   "source": [
    "## Conclusion"
   ]
  },
  {
   "cell_type": "code",
   "execution_count": null,
   "metadata": {},
   "outputs": [],
   "source": []
  },
  {
   "cell_type": "markdown",
   "metadata": {},
   "source": [
    "## VI Quelques bonus"
   ]
  },
  {
   "cell_type": "markdown",
   "metadata": {},
   "source": [
    "### VI.1 Comparaison local / global\n",
    "On se propose dans cette partie de comparer les normales locales aux normales globales. Pour ca, on va utiliser la fonction de la cellule suivante `keep_one_location` pour construire un tableau qui ne contiendra que la normale France, et on pourra comparer dans chaque ville la normale France et les autres normales."
   ]
  },
  {
   "cell_type": "code",
   "execution_count": null,
   "metadata": {},
   "outputs": [],
   "source": [
    "def keep_one_location( normale , location ):\n",
    "\t\"\"\"\n",
    "\tExemple\n",
    "\t-------\n",
    "\tdX_51_80      = dX.sel( time = slice(\"1951\",\"1980\") ) ## Periode de 1951 à 1980\n",
    "\tnorm_51_80    = normale_mean_along_days(dX_51_80)     ## Calcul de la normale\n",
    "\tnorm_51_80_fr = keep_one_location( norm_51_80 , \"France\" ) ## Ne garde que la normale de la France pour les 4 séries\n",
    "\t\"\"\"\n",
    "\tnew_normale = normale.copy()\n",
    "\tfor l in new_normale.location:\n",
    "\t\tnew_normale.loc[:,l] = new_normale.loc[:,location]\n",
    "\treturn new_normale"
   ]
  },
  {
   "cell_type": "markdown",
   "metadata": {},
   "source": [
    "#### Questions\n",
    "1. Utiliser la fonction `keep_one_location` pour construire des normales uniquement France sur la période 1951-1980 et 1981-2010\n",
    "2. Afficher sur une même figure la normale France et les normales locales pour chaque période de temps\n",
    "3. Quelles sont les différences entre Brest, Marseille et Briancon ? Avez vous une idée du pourquoi ?"
   ]
  },
  {
   "cell_type": "code",
   "execution_count": null,
   "metadata": {},
   "outputs": [],
   "source": [
    "#########################\n",
    "## Q1\n",
    "\n",
    "##\n",
    "#########################"
   ]
  },
  {
   "cell_type": "code",
   "execution_count": null,
   "metadata": {},
   "outputs": [],
   "source": [
    "#########################\n",
    "## Q2\n",
    "\n",
    "##\n",
    "#########################"
   ]
  },
  {
   "cell_type": "markdown",
   "metadata": {},
   "source": [
    "### VI.2 Visualiser le changement climatique : les $\\delta$ cycles\n",
    "\n",
    "Les $\\delta$ cycles sont une simple différences entre deux normales à deux périodes de temps différentes. Elles permettent en l'occurence de visualiser l'amplitude du changement climatique au cours de l'année.\n",
    "\n",
    "#### Questions\n",
    "1. Calculer les normales 1951-1980, 1961-1990, 1971-2000, 1981-2010 et 1989-2018 en Fourier\n",
    "2. Calculer et afficher les $\\delta$ cycles entre ces normales et la normale 1951-1980"
   ]
  },
  {
   "cell_type": "code",
   "execution_count": null,
   "metadata": {},
   "outputs": [],
   "source": [
    "#########################\n",
    "## Q1\n",
    "\n",
    "##\n",
    "#########################"
   ]
  },
  {
   "cell_type": "code",
   "execution_count": null,
   "metadata": {},
   "outputs": [],
   "source": [
    "#########################\n",
    "## Q2\n",
    "\n",
    "##\n",
    "#########################"
   ]
  },
  {
   "cell_type": "markdown",
   "metadata": {},
   "source": [
    "### VI.3 Séries \"à la Météo-France\"\n",
    "Nous allons finir cette section du TP en reproduisant une figure fournie par Météo-France, qui permet d'afficher une année donnée les relevés de températures en anomalies par rapport à une normale. Ceci sera fait par la fonction `fig_normale_anomalies` de la cellule suivante."
   ]
  },
  {
   "cell_type": "code",
   "execution_count": null,
   "metadata": {},
   "outputs": [],
   "source": [
    "def fig_normale_anomalies( dX , normale , year , **kwargs ):\n",
    "\t\"\"\"\n",
    "\tFonction qui permet d'afficher la série dX une année year en anomalie par rapport à la normale\n",
    "\t\n",
    "\tArguments\n",
    "\t---------\n",
    "\tdX : xarray.DataArray\n",
    "\t\tLa variable dX\n",
    "\tnormale : xarray.DataArray ou list de DataArray\n",
    "\t\tTableau (ou liste de tableau) qui contient les valeurs \"normales\" pour une année\n",
    "\tyear : entier\n",
    "\t\tL'année à afficher\n",
    "\t\n",
    "\tlabel_normale: str ou list(str) (optionnel)\n",
    "\t\tLes labels pour chaque normales\n",
    "\tcolor_normale: str ou list(str) (optionnel)\n",
    "\t\tLes couleurs pour chaque normales\n",
    "\t\n",
    "\tReturn\n",
    "\t------\n",
    "\tfig  : Une figure matplotlib\n",
    "\taxes : Une liste des axes où ont été ploté les données\n",
    "\t\n",
    "\tExemples\n",
    "\t--------\n",
    "\tfig,ax = fig_normale_one_year( dX , [norm_0,norm_1] , 1973 , label_normale = [\"norm0\",\"norm1\"] , color_normale = [\"black\",\"grey\"] )\n",
    "\t\"\"\"\n",
    "\tfig,axes,normale = _fig_normale( normale , **kwargs )\n",
    "\t\n",
    "\t## Compute anomalies\n",
    "\tdXy = dX.sel({\"time\":str(year)}).assign_coords( time = range(1,366,1) )\n",
    "\tupper_fill = [dXy.where( dXy > n , n ) for n in normale] \n",
    "\tlower_fill = [dXy.where( dXy < n , n ) for n in normale] \n",
    "\t\n",
    "\tfor j,c in enumerate(dX.location):\n",
    "\t\tfor i in range(len(normale)):\n",
    "\t\t\taxes[j].fill_between( range(365) , normale[i].loc[:,c] , upper_fill[i].loc[:,c] , color = \"red\"  , alpha = 0.3 )\n",
    "\t\t\taxes[j].fill_between( range(365) , lower_fill[i].loc[:,c] , normale[i].loc[:,c] , color = \"blue\" , alpha = 0.3 )\n",
    "\t\taxes[j].legend( loc = \"lower center\" )\n",
    "\t\n",
    "\taxes = _add_fig_labels( dX , axes ) ## Les labels des axes et titres\n",
    "\t\n",
    "\t\n",
    "\treturn fig,axes"
   ]
  },
  {
   "cell_type": "markdown",
   "metadata": {},
   "source": [
    "#### Questions\n",
    "1. Afficher en anomalie par rapport à la normale 1951-1980 l'année 2019\n",
    "2. Afficher en anomalie par rapport à la normale 1981-2010 l'année 2019\n",
    "3. Faites de même par rapport à la normale France en 2003\n",
    "4. Amusez vous à changer les dates/normales"
   ]
  },
  {
   "cell_type": "code",
   "execution_count": null,
   "metadata": {},
   "outputs": [],
   "source": [
    "#########################\n",
    "## Q1\n",
    "\n",
    "##\n",
    "#########################"
   ]
  },
  {
   "cell_type": "code",
   "execution_count": null,
   "metadata": {},
   "outputs": [],
   "source": [
    "#########################\n",
    "## Q2\n",
    "\n",
    "##\n",
    "#########################"
   ]
  },
  {
   "cell_type": "code",
   "execution_count": null,
   "metadata": {},
   "outputs": [],
   "source": [
    "#########################\n",
    "## Q3\n",
    "\n",
    "##\n",
    "#########################"
   ]
  },
  {
   "cell_type": "code",
   "execution_count": null,
   "metadata": {},
   "outputs": [],
   "source": [
    "#########################\n",
    "## Q4\n",
    "\n",
    "##\n",
    "#########################"
   ]
  }
 ],
 "metadata": {
  "kernelspec": {
   "display_name": "Python 3",
   "language": "python",
   "name": "python3"
  },
  "language_info": {
   "codemirror_mode": {
    "name": "ipython",
    "version": 3
   },
   "file_extension": ".py",
   "mimetype": "text/x-python",
   "name": "python",
   "nbconvert_exporter": "python",
   "pygments_lexer": "ipython3",
   "version": "3.7.3"
  }
 },
 "nbformat": 4,
 "nbformat_minor": 4
}
